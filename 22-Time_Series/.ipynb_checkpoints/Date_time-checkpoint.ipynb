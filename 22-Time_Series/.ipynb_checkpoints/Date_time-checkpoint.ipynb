{
 "cells": [
  {
   "cell_type": "code",
   "execution_count": 1,
   "id": "23f36446-0aa9-4951-bc83-6f5086226d74",
   "metadata": {},
   "outputs": [],
   "source": [
    "from datetime import datetime"
   ]
  },
  {
   "cell_type": "code",
   "execution_count": 3,
   "id": "a2c96f5d-2293-401f-8bb3-411988634b9d",
   "metadata": {},
   "outputs": [],
   "source": [
    "##TO illustrate the order of arguements\n",
    "my_year=2017\n",
    "my_month=1\n",
    "my_day=2\n",
    "my_hour=13\n",
    "my_minute=30\n",
    "my_second=15"
   ]
  },
  {
   "cell_type": "code",
   "execution_count": 4,
   "id": "8e2b890e-78b4-42bd-b2b8-39cabed26bad",
   "metadata": {},
   "outputs": [],
   "source": [
    "#Janaury 2nd ,2017\n",
    "my_date=datetime(my_year,my_month,my_day)"
   ]
  },
  {
   "cell_type": "code",
   "execution_count": 5,
   "id": "0b1c0df4-7436-447e-a4ce-eb9ea6e73d8d",
   "metadata": {},
   "outputs": [
    {
     "data": {
      "text/plain": [
       "datetime.datetime(2017, 1, 2, 0, 0)"
      ]
     },
     "execution_count": 5,
     "metadata": {},
     "output_type": "execute_result"
    }
   ],
   "source": [
    "my_date"
   ]
  },
  {
   "cell_type": "code",
   "execution_count": 9,
   "id": "733629cf-4f97-4e90-9cfc-6730f71b2b88",
   "metadata": {},
   "outputs": [],
   "source": [
    "#Janaury 2nd ,2017 13:30:15\n",
    "my_date_time=datetime(my_year,my_month,my_day,my_hour,my_minute,my_second)"
   ]
  },
  {
   "cell_type": "code",
   "execution_count": 11,
   "id": "9eec8b3f-3e75-4809-8fcf-4635c8ed4363",
   "metadata": {},
   "outputs": [
    {
     "data": {
      "text/plain": [
       "datetime.datetime(2017, 1, 2, 13, 30, 15)"
      ]
     },
     "execution_count": 11,
     "metadata": {},
     "output_type": "execute_result"
    }
   ],
   "source": [
    "my_date_time"
   ]
  },
  {
   "cell_type": "code",
   "execution_count": 13,
   "id": "3a55a894-4c08-4721-ae89-dedcd78a9768",
   "metadata": {},
   "outputs": [
    {
     "data": {
      "text/plain": [
       "2"
      ]
     },
     "execution_count": 13,
     "metadata": {},
     "output_type": "execute_result"
    }
   ],
   "source": [
    "#you can grab any part of the datetime object you want \n",
    "my_date.day"
   ]
  },
  {
   "cell_type": "code",
   "execution_count": 15,
   "id": "1a9426b2-e516-48df-8822-d54e4885b2b0",
   "metadata": {},
   "outputs": [
    {
     "data": {
      "text/plain": [
       "13"
      ]
     },
     "execution_count": 15,
     "metadata": {},
     "output_type": "execute_result"
    }
   ],
   "source": [
    "my_date_time.hour"
   ]
  },
  {
   "cell_type": "code",
   "execution_count": 17,
   "id": "8198f8f0-5788-4a1b-a6f2-4ebd0fea31a2",
   "metadata": {},
   "outputs": [],
   "source": [
    "##Numpy datetime arrays\n",
    "import numpy as np\n"
   ]
  },
  {
   "cell_type": "code",
   "execution_count": 19,
   "id": "9f238559-628c-46a3-b8db-01a9cd249219",
   "metadata": {},
   "outputs": [
    {
     "data": {
      "text/plain": [
       "array(['2016-03-15', '2017-05-24', '2018-08-09'], dtype='datetime64[D]')"
      ]
     },
     "execution_count": 19,
     "metadata": {},
     "output_type": "execute_result"
    }
   ],
   "source": [
    "#create an array from three dates\n",
    "np.array(['2016-03-15','2017-05-24','2018-08-09'],dtype='datetime64')"
   ]
  },
  {
   "cell_type": "code",
   "execution_count": 21,
   "id": "795bc90f-8ad8-478a-9cbd-f4c31e336ce9",
   "metadata": {},
   "outputs": [
    {
     "data": {
      "text/plain": [
       "array(['2016-03-15T00', '2017-05-24T00', '2018-08-09T00'],\n",
       "      dtype='datetime64[h]')"
      ]
     },
     "execution_count": 21,
     "metadata": {},
     "output_type": "execute_result"
    }
   ],
   "source": [
    "np.array(['2016-03-15','2017-05-24','2018-08-09'],dtype='datetime64[h]')"
   ]
  },
  {
   "cell_type": "code",
   "execution_count": 23,
   "id": "73a72166-3b90-4c8c-b937-e8afb7a94013",
   "metadata": {},
   "outputs": [
    {
     "data": {
      "text/plain": [
       "array(['2016', '2017', '2018'], dtype='datetime64[Y]')"
      ]
     },
     "execution_count": 23,
     "metadata": {},
     "output_type": "execute_result"
    }
   ],
   "source": [
    "np.array(['2016-03-15','2017-05-24','2018-08-09'],dtype='datetime64[Y]')"
   ]
  },
  {
   "cell_type": "code",
   "execution_count": 25,
   "id": "6deee22d-a150-47e0-a1f7-2f2aeb67e4da",
   "metadata": {},
   "outputs": [
    {
     "data": {
      "text/plain": [
       "array(['2018-06-01', '2018-06-08', '2018-06-15', '2018-06-22'],\n",
       "      dtype='datetime64[D]')"
      ]
     },
     "execution_count": 25,
     "metadata": {},
     "output_type": "execute_result"
    }
   ],
   "source": [
    "#Numpy data rrange\n",
    "#an array of date from 6/1/18 to 6/22/18 spaced one week apart\n",
    "np.arange('2018-06-01','2018-06-23',7,dtype='datetime64[D]')"
   ]
  },
  {
   "cell_type": "code",
   "execution_count": 27,
   "id": "08710d38-c8e7-419d-a891-431412e34ec3",
   "metadata": {},
   "outputs": [
    {
     "data": {
      "text/plain": [
       "array(['1968', '1969', '1970', '1971', '1972', '1973', '1974'],\n",
       "      dtype='datetime64[Y]')"
      ]
     },
     "execution_count": 27,
     "metadata": {},
     "output_type": "execute_result"
    }
   ],
   "source": [
    "#by emitting the step value we can obtain value based on yhe prediction\n",
    "#an array of dates for every year from 1968 to 1975\n",
    "np.arange('1968','1975',dtype='datetime64[Y]')"
   ]
  },
  {
   "cell_type": "code",
   "execution_count": 29,
   "id": "28f3df05-78ff-46da-9af8-84c4df2c496d",
   "metadata": {},
   "outputs": [],
   "source": [
    "#pandas datatime index\n",
    "import pandas as pd"
   ]
  },
  {
   "cell_type": "code",
   "execution_count": 31,
   "id": "8376e946-67cc-4a9e-84a8-96036d91e203",
   "metadata": {},
   "outputs": [],
   "source": [
    "#the simplest way to build datatime index is with the pd.date_range() method:"
   ]
  },
  {
   "cell_type": "code",
   "execution_count": 33,
   "id": "093eedd5-f460-43a4-87c7-7e04362c98de",
   "metadata": {},
   "outputs": [
    {
     "data": {
      "text/plain": [
       "DatetimeIndex(['2018-07-08', '2018-07-09', '2018-07-10', '2018-07-11',\n",
       "               '2018-07-12', '2018-07-13', '2018-07-14'],\n",
       "              dtype='datetime64[ns]', freq='D')"
      ]
     },
     "execution_count": 33,
     "metadata": {},
     "output_type": "execute_result"
    }
   ],
   "source": [
    "#the week of july 8th,2018\n",
    "idx=pd.date_range('07/08/2018',periods=7,freq='D')\n",
    "idx"
   ]
  },
  {
   "cell_type": "code",
   "execution_count": 35,
   "id": "068f41e3-b5ba-40f2-b229-1d490d84b323",
   "metadata": {},
   "outputs": [
    {
     "data": {
      "text/plain": [
       "DatetimeIndex(['2018-01-01', '2018-01-02', '2018-01-03', 'NaT'], dtype='datetime64[ns]', freq=None)"
      ]
     },
     "execution_count": 35,
     "metadata": {},
     "output_type": "execute_result"
    }
   ],
   "source": [
    "#Another way to convert incoming text with the pd.to_delete() method\n",
    "idx=pd.to_datetime([\"Jan 01, 2018\",\"1/2/18\",\"03-Jan-2018\",None])\n",
    "idx"
   ]
  },
  {
   "cell_type": "code",
   "execution_count": 42,
   "id": "b249e9b8-af2a-42e2-b86a-583d6f1c358b",
   "metadata": {},
   "outputs": [
    {
     "data": {
      "text/plain": [
       "array(['2016-03-15', '2017-05-24', '2018-08-09'], dtype='datetime64[D]')"
      ]
     },
     "execution_count": 42,
     "metadata": {},
     "output_type": "execute_result"
    }
   ],
   "source": [
    "##A third way is to pass list or array of datetime objects into the pd.DatetimeIndex() method\n",
    "some_dates=np.array([\"2016-03-15\",\"2017-05-24\",\"2018-08-09\"],dtype=\"datetime64[D]\")\n",
    "some_dates"
   ]
  },
  {
   "cell_type": "code",
   "execution_count": 56,
   "id": "ed098403-c4f5-453a-825c-4a295572a387",
   "metadata": {},
   "outputs": [
    {
     "data": {
      "text/plain": [
       "DatetimeIndex(['2016-03-15', '2017-05-24', '2018-08-09'], dtype='datetime64[ns]', freq=None)"
      ]
     },
     "execution_count": 56,
     "metadata": {},
     "output_type": "execute_result"
    }
   ],
   "source": [
    "# Convetrt to an index \n",
    "idx=pd.DatetimeIndex(some_dates)\n",
    "idx"
   ]
  },
  {
   "cell_type": "code",
   "execution_count": 44,
   "id": "d0269011-c55b-4750-aeb8-62482fe0f5bf",
   "metadata": {},
   "outputs": [
    {
     "name": "stdout",
     "output_type": "stream",
     "text": [
      "[[ 1.06490964  0.662352  ]\n",
      " [ 1.1237688   0.42659599]\n",
      " [-1.82751504 -0.49035333]\n",
      " [ 1.67971306 -0.45527206]]\n"
     ]
    }
   ],
   "source": [
    "##PANDAS DATETIME ANALYSIS\n",
    "#create some random data\n",
    "data=np.random.randn(4,2)\n",
    "cols=[\"A\",\"B\"]\n",
    "print(data)"
   ]
  },
  {
   "cell_type": "code",
   "execution_count": 46,
   "id": "50065dfb-5783-40be-ae11-e9cfea93cbff",
   "metadata": {},
   "outputs": [
    {
     "data": {
      "text/html": [
       "<div>\n",
       "<style scoped>\n",
       "    .dataframe tbody tr th:only-of-type {\n",
       "        vertical-align: middle;\n",
       "    }\n",
       "\n",
       "    .dataframe tbody tr th {\n",
       "        vertical-align: top;\n",
       "    }\n",
       "\n",
       "    .dataframe thead th {\n",
       "        text-align: right;\n",
       "    }\n",
       "</style>\n",
       "<table border=\"1\" class=\"dataframe\">\n",
       "  <thead>\n",
       "    <tr style=\"text-align: right;\">\n",
       "      <th></th>\n",
       "      <th>A</th>\n",
       "      <th>B</th>\n",
       "    </tr>\n",
       "  </thead>\n",
       "  <tbody>\n",
       "    <tr>\n",
       "      <th>2018-01-01</th>\n",
       "      <td>1.064910</td>\n",
       "      <td>0.662352</td>\n",
       "    </tr>\n",
       "    <tr>\n",
       "      <th>2018-01-02</th>\n",
       "      <td>1.123769</td>\n",
       "      <td>0.426596</td>\n",
       "    </tr>\n",
       "    <tr>\n",
       "      <th>2018-01-03</th>\n",
       "      <td>-1.827515</td>\n",
       "      <td>-0.490353</td>\n",
       "    </tr>\n",
       "    <tr>\n",
       "      <th>NaT</th>\n",
       "      <td>1.679713</td>\n",
       "      <td>-0.455272</td>\n",
       "    </tr>\n",
       "  </tbody>\n",
       "</table>\n",
       "</div>"
      ],
      "text/plain": [
       "                   A         B\n",
       "2018-01-01  1.064910  0.662352\n",
       "2018-01-02  1.123769  0.426596\n",
       "2018-01-03 -1.827515 -0.490353\n",
       "NaT         1.679713 -0.455272"
      ]
     },
     "execution_count": 46,
     "metadata": {},
     "output_type": "execute_result"
    }
   ],
   "source": [
    "#creatde a datafreme with our random day=ta , i=our dataindex and our column\n",
    "df=pd.DataFrame(data,idx,cols)\n",
    "df"
   ]
  },
  {
   "cell_type": "code",
   "execution_count": 50,
   "id": "e8ce650b-f0f2-46ba-aa57-9a9ccf76bd91",
   "metadata": {},
   "outputs": [
    {
     "data": {
      "text/plain": [
       "DatetimeIndex(['2018-01-01', '2018-01-02', '2018-01-03', 'NaT'], dtype='datetime64[ns]', freq=None)"
      ]
     },
     "execution_count": 50,
     "metadata": {},
     "output_type": "execute_result"
    }
   ],
   "source": [
    "df.index"
   ]
  },
  {
   "cell_type": "code",
   "execution_count": 52,
   "id": "3a950991-2aeb-464c-a60b-e58501a8742d",
   "metadata": {},
   "outputs": [
    {
     "data": {
      "text/plain": [
       "Timestamp('2018-01-03 00:00:00')"
      ]
     },
     "execution_count": 52,
     "metadata": {},
     "output_type": "execute_result"
    }
   ],
   "source": [
    "#latest data value\n",
    "df.index.max()"
   ]
  },
  {
   "cell_type": "code",
   "execution_count": 54,
   "id": "2b844d1f-b879-4b0f-9ac9-159bca6eb581",
   "metadata": {},
   "outputs": [
    {
     "data": {
      "text/plain": [
       "2"
      ]
     },
     "execution_count": 54,
     "metadata": {},
     "output_type": "execute_result"
    }
   ],
   "source": [
    "#latest data index location\n",
    "df.index.argmax()"
   ]
  },
  {
   "cell_type": "code",
   "execution_count": 58,
   "id": "6192026d-694f-49b0-9a20-fcb825bed6b9",
   "metadata": {},
   "outputs": [
    {
     "data": {
      "text/plain": [
       "Timestamp('2018-01-01 00:00:00')"
      ]
     },
     "execution_count": 58,
     "metadata": {},
     "output_type": "execute_result"
    }
   ],
   "source": [
    "#Earliset date value\n",
    "df.index.min()"
   ]
  },
  {
   "cell_type": "code",
   "execution_count": 62,
   "id": "2335994e-19ce-4541-b7a5-52e76f2af3dd",
   "metadata": {},
   "outputs": [
    {
     "data": {
      "text/plain": [
       "0"
      ]
     },
     "execution_count": 62,
     "metadata": {},
     "output_type": "execute_result"
    }
   ],
   "source": [
    "#earlist data index location\n",
    "df.index.argmin()"
   ]
  }
 ],
 "metadata": {
  "kernelspec": {
   "display_name": "Python 3 (ipykernel)",
   "language": "python",
   "name": "python3"
  },
  "language_info": {
   "codemirror_mode": {
    "name": "ipython",
    "version": 3
   },
   "file_extension": ".py",
   "mimetype": "text/x-python",
   "name": "python",
   "nbconvert_exporter": "python",
   "pygments_lexer": "ipython3",
   "version": "3.11.7"
  }
 },
 "nbformat": 4,
 "nbformat_minor": 5
}
