{
 "cells": [
  {
   "cell_type": "markdown",
   "id": "1aa9ce7b-0e3d-43d8-9de3-8494787026af",
   "metadata": {},
   "source": [
    "#26/08/24"
   ]
  },
  {
   "cell_type": "code",
   "execution_count": 24,
   "id": "12057a5a-3bcf-49cd-9de7-bf3ddd8c32bf",
   "metadata": {},
   "outputs": [],
   "source": [
    "text=\"The agent's phone number is 408-555-1234. Call soon!\""
   ]
  },
  {
   "cell_type": "code",
   "execution_count": 26,
   "id": "41bfebba-34a5-4d66-8f5b-46ce40467b18",
   "metadata": {},
   "outputs": [
    {
     "data": {
      "text/plain": [
       "True"
      ]
     },
     "execution_count": 26,
     "metadata": {},
     "output_type": "execute_result"
    }
   ],
   "source": [
    "'phone' in text"
   ]
  },
  {
   "cell_type": "code",
   "execution_count": 1,
   "id": "c9a92ccc-dc92-4e7e-898a-e0c3b058d962",
   "metadata": {},
   "outputs": [],
   "source": [
    "import re"
   ]
  },
  {
   "cell_type": "code",
   "execution_count": 52,
   "id": "ff43de86-48c3-4abc-9d4a-68f2082b1f57",
   "metadata": {},
   "outputs": [],
   "source": [
    "pattern='phone'"
   ]
  },
  {
   "cell_type": "code",
   "execution_count": 38,
   "id": "38fcff9d-f534-4b93-9706-c7d90f9eec46",
   "metadata": {},
   "outputs": [
    {
     "data": {
      "text/plain": [
       "<re.Match object; span=(12, 17), match='phone'>"
      ]
     },
     "execution_count": 38,
     "metadata": {},
     "output_type": "execute_result"
    }
   ],
   "source": [
    "re.search(pattern,text)"
   ]
  },
  {
   "cell_type": "markdown",
   "id": "2d4e99f8-56e0-4d1b-83fa-1aa72665fe98",
   "metadata": {},
   "source": [
    "Now we have seen that re.search will take pattern scan the text and then returns a match object.If no pattern is found a None is returned(no output)"
   ]
  },
  {
   "cell_type": "code",
   "execution_count": 44,
   "id": "3e57452b-1a17-46b7-b2da-f56f9cbfe610",
   "metadata": {},
   "outputs": [],
   "source": [
    "pattern='Not in text'"
   ]
  },
  {
   "cell_type": "code",
   "execution_count": 46,
   "id": "744c58b5-858a-4a22-9532-7abc24bf4d2b",
   "metadata": {},
   "outputs": [],
   "source": [
    "re.search(pattern,text)#no output"
   ]
  },
  {
   "cell_type": "code",
   "execution_count": 54,
   "id": "d8de8a08-1792-48bb-ba67-e31687519817",
   "metadata": {},
   "outputs": [],
   "source": [
    "match=re.search(pattern,text)"
   ]
  },
  {
   "cell_type": "code",
   "execution_count": 56,
   "id": "5eda832f-2164-4c73-89e0-ce1e968b5925",
   "metadata": {},
   "outputs": [
    {
     "data": {
      "text/plain": [
       "<re.Match object; span=(12, 17), match='phone'>"
      ]
     },
     "execution_count": 56,
     "metadata": {},
     "output_type": "execute_result"
    }
   ],
   "source": [
    "match"
   ]
  },
  {
   "cell_type": "code",
   "execution_count": 58,
   "id": "0019b13c-6a87-441f-b978-055e1d6a1263",
   "metadata": {},
   "outputs": [
    {
     "data": {
      "text/plain": [
       "(12, 17)"
      ]
     },
     "execution_count": 58,
     "metadata": {},
     "output_type": "execute_result"
    }
   ],
   "source": [
    "match.span()"
   ]
  },
  {
   "cell_type": "code",
   "execution_count": 60,
   "id": "b7a6cd2a-9a07-4847-84b5-a19f533b4bf9",
   "metadata": {},
   "outputs": [
    {
     "data": {
      "text/plain": [
       "12"
      ]
     },
     "execution_count": 60,
     "metadata": {},
     "output_type": "execute_result"
    }
   ],
   "source": [
    "match.start()"
   ]
  },
  {
   "cell_type": "code",
   "execution_count": 62,
   "id": "22bad3c5-a255-44b4-a36d-da8557b0238f",
   "metadata": {},
   "outputs": [
    {
     "data": {
      "text/plain": [
       "17"
      ]
     },
     "execution_count": 62,
     "metadata": {},
     "output_type": "execute_result"
    }
   ],
   "source": [
    "match.end()"
   ]
  },
  {
   "cell_type": "markdown",
   "id": "ca23e9d4-fbbe-45af-89d9-cbe1c56d4f68",
   "metadata": {},
   "source": [
    "if pattern occurs multiple times"
   ]
  },
  {
   "cell_type": "code",
   "execution_count": 93,
   "id": "f3c53ccb-2036-43e5-9247-fc5422871ef2",
   "metadata": {},
   "outputs": [],
   "source": [
    "text=\"my phone is a new phone\""
   ]
  },
  {
   "cell_type": "code",
   "execution_count": 95,
   "id": "404bb9f3-fef9-4d2d-a38b-10fea8fd4c2a",
   "metadata": {},
   "outputs": [],
   "source": [
    "match=re.search('phone',text)"
   ]
  },
  {
   "cell_type": "code",
   "execution_count": 97,
   "id": "caa58717-b83e-482a-bfac-b18ee8064c05",
   "metadata": {},
   "outputs": [
    {
     "data": {
      "text/plain": [
       "(3, 8)"
      ]
     },
     "execution_count": 97,
     "metadata": {},
     "output_type": "execute_result"
    }
   ],
   "source": [
    "match.span()"
   ]
  },
  {
   "cell_type": "markdown",
   "id": "df4425bd-d7f5-431d-89a1-1c7a634ebe9c",
   "metadata": {},
   "source": [
    "Notice if only matches the first instance.if we want a list of all matches we can use .findall() method"
   ]
  },
  {
   "cell_type": "code",
   "execution_count": 100,
   "id": "d7b81e09-0b24-48a4-a23a-5fbb64435a02",
   "metadata": {},
   "outputs": [],
   "source": [
    "matches=re.findall('phone',text)"
   ]
  },
  {
   "cell_type": "code",
   "execution_count": 102,
   "id": "f5d72ffd-94ea-45cd-bfe6-d46de9e1c354",
   "metadata": {},
   "outputs": [
    {
     "data": {
      "text/plain": [
       "['phone', 'phone']"
      ]
     },
     "execution_count": 102,
     "metadata": {},
     "output_type": "execute_result"
    }
   ],
   "source": [
    "matches"
   ]
  },
  {
   "cell_type": "code",
   "execution_count": 104,
   "id": "2b449378-9101-49a9-af60-f0df32a31858",
   "metadata": {},
   "outputs": [
    {
     "data": {
      "text/plain": [
       "2"
      ]
     },
     "execution_count": 104,
     "metadata": {},
     "output_type": "execute_result"
    }
   ],
   "source": [
    "len(matches)"
   ]
  },
  {
   "cell_type": "markdown",
   "id": "1f39e903-4b20-44d5-b266-15803d89301f",
   "metadata": {},
   "source": [
    "to get actual match object use the iterator"
   ]
  },
  {
   "cell_type": "code",
   "execution_count": 109,
   "id": "dc6ae051-478f-4207-9426-a0fb8398b6ef",
   "metadata": {},
   "outputs": [
    {
     "name": "stdout",
     "output_type": "stream",
     "text": [
      "(3, 8)\n",
      "(18, 23)\n"
     ]
    }
   ],
   "source": [
    "for match in re.finditer('phone',text):\n",
    "    print(match.span())"
   ]
  },
  {
   "cell_type": "code",
   "execution_count": null,
   "id": "ac02fa2f-e2d0-42c6-8c2f-f7e087b0ff90",
   "metadata": {},
   "outputs": [],
   "source": [
    "if you want the actual text that matches, you can use the .group() method"
   ]
  },
  {
   "cell_type": "code",
   "execution_count": 111,
   "id": "0d1c774b-7b3b-4c85-9663-d58ee5b41287",
   "metadata": {},
   "outputs": [
    {
     "data": {
      "text/plain": [
       "'phone'"
      ]
     },
     "execution_count": 111,
     "metadata": {},
     "output_type": "execute_result"
    }
   ],
   "source": [
    "match.group()"
   ]
  },
  {
   "cell_type": "code",
   "execution_count": 113,
   "id": "5426c9b2-9e3e-4db5-a49b-2be0335f3043",
   "metadata": {},
   "outputs": [],
   "source": [
    "text=\"My telephone number is 408-555-1234.\""
   ]
  },
  {
   "cell_type": "code",
   "execution_count": 115,
   "id": "3536957d-edcc-4437-aa04-7b49945f052b",
   "metadata": {},
   "outputs": [],
   "source": [
    "phone=re.search(r'\\d\\d\\d-\\d\\d\\d-\\d\\d\\d\\d',text)"
   ]
  },
  {
   "cell_type": "code",
   "execution_count": 117,
   "id": "66ae3a68-0916-4238-9028-6786bef74530",
   "metadata": {},
   "outputs": [
    {
     "data": {
      "text/plain": [
       "'408-555-1234'"
      ]
     },
     "execution_count": 117,
     "metadata": {},
     "output_type": "execute_result"
    }
   ],
   "source": [
    "phone.group()"
   ]
  },
  {
   "cell_type": "code",
   "execution_count": 119,
   "id": "4cf4db22-a150-4a06-b9bb-b976e0dfa578",
   "metadata": {},
   "outputs": [
    {
     "data": {
      "text/plain": [
       "<re.Match object; span=(23, 35), match='408-555-1234'>"
      ]
     },
     "execution_count": 119,
     "metadata": {},
     "output_type": "execute_result"
    }
   ],
   "source": [
    "re.search(r'\\d{3}-\\d{3}-\\d{4}',text)"
   ]
  },
  {
   "cell_type": "code",
   "execution_count": 121,
   "id": "e529e698-a0be-4459-a048-4c3707fcc5e7",
   "metadata": {},
   "outputs": [],
   "source": [
    "phone_pattern=re.compile(r'(\\d{3})-(\\d{3})-(\\d{4})')"
   ]
  },
  {
   "cell_type": "code",
   "execution_count": 123,
   "id": "756dce28-b7a3-4968-a019-30113096b665",
   "metadata": {},
   "outputs": [],
   "source": [
    "results=re.search(phone_pattern,text)"
   ]
  },
  {
   "cell_type": "code",
   "execution_count": 127,
   "id": "ad746fa6-e6ee-4d0d-b986-8568cd26a7ee",
   "metadata": {},
   "outputs": [
    {
     "data": {
      "text/plain": [
       "'408-555-1234'"
      ]
     },
     "execution_count": 127,
     "metadata": {},
     "output_type": "execute_result"
    }
   ],
   "source": [
    "#the entire result\n",
    "results.group()"
   ]
  },
  {
   "cell_type": "code",
   "execution_count": 129,
   "id": "52c07e0a-e854-47a7-b56d-6e353dd3a38f",
   "metadata": {},
   "outputs": [
    {
     "data": {
      "text/plain": [
       "'408'"
      ]
     },
     "execution_count": 129,
     "metadata": {},
     "output_type": "execute_result"
    }
   ],
   "source": [
    "results.group(1)"
   ]
  },
  {
   "cell_type": "code",
   "execution_count": 133,
   "id": "d61c1f5e-b501-40e1-ae0c-ac53d1de196a",
   "metadata": {},
   "outputs": [
    {
     "data": {
      "text/plain": [
       "'555'"
      ]
     },
     "execution_count": 133,
     "metadata": {},
     "output_type": "execute_result"
    }
   ],
   "source": [
    "results.group(2)"
   ]
  },
  {
   "cell_type": "code",
   "execution_count": 135,
   "id": "d7fd5542-1f6e-4b52-8b83-32d1201d4d14",
   "metadata": {},
   "outputs": [
    {
     "data": {
      "text/plain": [
       "'1234'"
      ]
     },
     "execution_count": 135,
     "metadata": {},
     "output_type": "execute_result"
    }
   ],
   "source": [
    "results.group(3)"
   ]
  },
  {
   "cell_type": "markdown",
   "id": "8f710bda-04c6-4a15-8a00-f0264bf36746",
   "metadata": {},
   "source": [
    "OR operator | use the pipe operator to have an or statement."
   ]
  },
  {
   "cell_type": "code",
   "execution_count": 138,
   "id": "fb6e3d74-64ca-49ef-964f-6e7f4bf160df",
   "metadata": {},
   "outputs": [
    {
     "data": {
      "text/plain": [
       "<re.Match object; span=(5, 8), match='man'>"
      ]
     },
     "execution_count": 138,
     "metadata": {},
     "output_type": "execute_result"
    }
   ],
   "source": [
    "re.search(r\"man|woman\",\"This man was here\")"
   ]
  },
  {
   "cell_type": "code",
   "execution_count": 140,
   "id": "ba346067-514e-489e-ac92-78829928f6ea",
   "metadata": {},
   "outputs": [
    {
     "data": {
      "text/plain": [
       "<re.Match object; span=(5, 10), match='woman'>"
      ]
     },
     "execution_count": 140,
     "metadata": {},
     "output_type": "execute_result"
    }
   ],
   "source": [
    "re.search(r\"man|woman\",\"This woman was here\")"
   ]
  },
  {
   "cell_type": "markdown",
   "id": "c35ddee7-1189-4989-b9b3-221aa2173689",
   "metadata": {},
   "source": [
    "The Wildcard Character Use a 'wildcard' as a placement that will match any character placed there.You can use a simple period"
   ]
  },
  {
   "cell_type": "code",
   "execution_count": 157,
   "id": "77602fa6-70e3-410b-8206-f5e05bf0d223",
   "metadata": {},
   "outputs": [
    {
     "data": {
      "text/plain": [
       "['cat', 'hat', 'sat']"
      ]
     },
     "execution_count": 157,
     "metadata": {},
     "output_type": "execute_result"
    }
   ],
   "source": [
    "re.findall(r\".at\",\"The cat in the hat sat here.\")"
   ]
  },
  {
   "cell_type": "code",
   "execution_count": 163,
   "id": "245a10a3-1c4e-4d80-81d1-69891dc6cf10",
   "metadata": {},
   "outputs": [
    {
     "data": {
      "text/plain": [
       "['bat', 'lat']"
      ]
     },
     "execution_count": 163,
     "metadata": {},
     "output_type": "execute_result"
    }
   ],
   "source": [
    "re.findall(r\".at\",\"The bat went splat.\")"
   ]
  },
  {
   "cell_type": "code",
   "execution_count": 165,
   "id": "63ac856b-1ddd-4205-b8f5-24a2a7f32d18",
   "metadata": {},
   "outputs": [
    {
     "data": {
      "text/plain": [
       "['e bat', 'splat']"
      ]
     },
     "execution_count": 165,
     "metadata": {},
     "output_type": "execute_result"
    }
   ],
   "source": [
    "re.findall(r\"...at\",\"The bat went splat.\")"
   ]
  },
  {
   "cell_type": "code",
   "execution_count": 169,
   "id": "6c183ce9-18fd-46fa-94a2-64d932bafc4e",
   "metadata": {},
   "outputs": [
    {
     "data": {
      "text/plain": [
       "['bat', 'splat']"
      ]
     },
     "execution_count": 169,
     "metadata": {},
     "output_type": "execute_result"
    }
   ],
   "source": [
    "#one or more non-white spaces that end s with 'at'\n",
    "re.findall(r\"\\S+at\",\"The bat went splat.\")"
   ]
  },
  {
   "cell_type": "markdown",
   "id": "6ee923c6-9ddc-47e1-a1b5-2da5b335a0a2",
   "metadata": {},
   "source": [
    "#27/08/24"
   ]
  },
  {
   "cell_type": "markdown",
   "id": "a24fe340-a408-4bfc-8e77-d3d49db8bff0",
   "metadata": {},
   "source": [
    "Start With and Ends With we can use the ^ to signal start with,and the $ to signal ends with:\n",
    "\n"
   ]
  },
  {
   "cell_type": "code",
   "execution_count": 25,
   "id": "003c5bf4-eb0d-4dbe-bcc1-ab30d5b52f3a",
   "metadata": {},
   "outputs": [
    {
     "data": {
      "text/plain": [
       "['2']"
      ]
     },
     "execution_count": 25,
     "metadata": {},
     "output_type": "execute_result"
    }
   ],
   "source": [
    "#Ends with a number:\n",
    "re.findall(r'\\d$','This ends with a number 2')"
   ]
  },
  {
   "cell_type": "code",
   "execution_count": 27,
   "id": "b9e242d7-a64f-4be4-8d15-e6931f55e1e4",
   "metadata": {},
   "outputs": [
    {
     "data": {
      "text/plain": [
       "['1']"
      ]
     },
     "execution_count": 27,
     "metadata": {},
     "output_type": "execute_result"
    }
   ],
   "source": [
    "#Starts with a number:\n",
    "re.findall(r'^\\d','1 is a loneliest number')"
   ]
  },
  {
   "cell_type": "markdown",
   "id": "391b1e4a-1e4d-41fc-aac0-598627d6312e",
   "metadata": {},
   "source": [
    "Exuclusion to exclude characters we can use the ^ symbol in conjuction with a set of brackets[].\n",
    "Anything inside the brackets are excluded."
   ]
  },
  {
   "cell_type": "code",
   "execution_count": 32,
   "id": "b99002eb-c7c3-420f-ad79-e1fa98b2027e",
   "metadata": {},
   "outputs": [],
   "source": [
    "phrase=\"There are 3 numbers 34 inside 5 this sentence\""
   ]
  },
  {
   "cell_type": "code",
   "execution_count": 38,
   "id": "9d4457b4-2b88-49ff-998f-65672d2653c3",
   "metadata": {},
   "outputs": [],
   "source": [
    "text=re.findall(r'[^/d]',phrase)#for letters"
   ]
  },
  {
   "cell_type": "code",
   "execution_count": 40,
   "id": "db6d59a8-8583-4194-8c95-223c3761f394",
   "metadata": {},
   "outputs": [
    {
     "data": {
      "text/plain": [
       "['T',\n",
       " 'h',\n",
       " 'e',\n",
       " 'r',\n",
       " 'e',\n",
       " ' ',\n",
       " 'a',\n",
       " 'r',\n",
       " 'e',\n",
       " ' ',\n",
       " '3',\n",
       " ' ',\n",
       " 'n',\n",
       " 'u',\n",
       " 'm',\n",
       " 'b',\n",
       " 'e',\n",
       " 'r',\n",
       " 's',\n",
       " ' ',\n",
       " '3',\n",
       " '4',\n",
       " ' ',\n",
       " 'i',\n",
       " 'n',\n",
       " 's',\n",
       " 'i',\n",
       " 'e',\n",
       " ' ',\n",
       " '5',\n",
       " ' ',\n",
       " 't',\n",
       " 'h',\n",
       " 'i',\n",
       " 's',\n",
       " ' ',\n",
       " 's',\n",
       " 'e',\n",
       " 'n',\n",
       " 't',\n",
       " 'e',\n",
       " 'n',\n",
       " 'c',\n",
       " 'e']"
      ]
     },
     "execution_count": 40,
     "metadata": {},
     "output_type": "execute_result"
    }
   ],
   "source": [
    "text"
   ]
  },
  {
   "cell_type": "code",
   "execution_count": 44,
   "id": "2cf699c1-0933-43b4-832c-56d81a300f6c",
   "metadata": {},
   "outputs": [],
   "source": [
    "text=re.findall(r'[^/d]+',phrase)#for words"
   ]
  },
  {
   "cell_type": "code",
   "execution_count": 46,
   "id": "e9c0ad66-3464-47b4-a4ed-acdd794df5d2",
   "metadata": {},
   "outputs": [
    {
     "data": {
      "text/plain": [
       "['There are 3 numbers 34 insi', 'e 5 this sentence']"
      ]
     },
     "execution_count": 46,
     "metadata": {},
     "output_type": "execute_result"
    }
   ],
   "source": [
    "text"
   ]
  },
  {
   "cell_type": "code",
   "execution_count": 48,
   "id": "f1e925c3-4271-4ac2-ab1f-a850ec1955d2",
   "metadata": {},
   "outputs": [],
   "source": [
    "text_phrase='This is a string! But it has punctuation.How can we remove it?'"
   ]
  },
  {
   "cell_type": "code",
   "execution_count": 52,
   "id": "1032494e-9a2b-4ab1-8318-bafbc1f0338f",
   "metadata": {},
   "outputs": [
    {
     "data": {
      "text/plain": [
       "['This is a string', ' But it has punctuation', 'How can we remove it']"
      ]
     },
     "execution_count": 52,
     "metadata": {},
     "output_type": "execute_result"
    }
   ],
   "source": [
    "re.findall(r'[^!.?]+',text_phrase)"
   ]
  },
  {
   "cell_type": "code",
   "execution_count": 58,
   "id": "37eb3609-962e-4336-94b4-d33a1d2b20df",
   "metadata": {},
   "outputs": [],
   "source": [
    "clean=''.join(re.findall(r'[^!.?]+',text_phrase))"
   ]
  },
  {
   "cell_type": "code",
   "execution_count": 60,
   "id": "ec29fa14-2cb1-4a93-807d-970b6e4e752c",
   "metadata": {},
   "outputs": [
    {
     "data": {
      "text/plain": [
       "'This is a string But it has punctuationHow can we remove it'"
      ]
     },
     "execution_count": 60,
     "metadata": {},
     "output_type": "execute_result"
    }
   ],
   "source": [
    "clean"
   ]
  },
  {
   "cell_type": "code",
   "execution_count": 82,
   "id": "d41a8395-5842-4c29-a330-87ff55258061",
   "metadata": {},
   "outputs": [],
   "source": [
    "#Find words that start with cat and end with one of these options:'Fish','nap'\n",
    "text='Hello,would you like some catfish'\n",
    "texttwo='Hello,would you like to take a catnap'\n",
    "textthree='Hello,have you seen this caterpillar'"
   ]
  },
  {
   "cell_type": "code",
   "execution_count": 84,
   "id": "8392ea2d-805f-4b02-9882-ab4cb735aa23",
   "metadata": {},
   "outputs": [
    {
     "data": {
      "text/plain": [
       "<re.Match object; span=(26, 33), match='catfish'>"
      ]
     },
     "execution_count": 84,
     "metadata": {},
     "output_type": "execute_result"
    }
   ],
   "source": [
    "re.search(r'cat(fish|nap|claw)',text)"
   ]
  },
  {
   "cell_type": "code",
   "execution_count": 66,
   "id": "816d313c-66e2-4516-9ff9-698d2b3f6218",
   "metadata": {},
   "outputs": [
    {
     "data": {
      "text/plain": [
       "<re.Match object; span=(31, 37), match='catnap'>"
      ]
     },
     "execution_count": 66,
     "metadata": {},
     "output_type": "execute_result"
    }
   ],
   "source": [
    "re.search(r'cat(fish|nap|claw)',texttwo)"
   ]
  },
  {
   "cell_type": "code",
   "execution_count": 74,
   "id": "382577c8-0e7e-4884-9ae6-9920cc36b48e",
   "metadata": {},
   "outputs": [],
   "source": [
    "re.search(r'cat(fish|nap|claw)',textthree)#no output"
   ]
  },
  {
   "cell_type": "code",
   "execution_count": 86,
   "id": "c111c664-70af-495a-91d8-8d0e0a7ba0b4",
   "metadata": {},
   "outputs": [],
   "source": []
  },
  {
   "cell_type": "code",
   "execution_count": null,
   "id": "cbd74965-d9ee-47ff-ad13-81a481e54bb1",
   "metadata": {},
   "outputs": [],
   "source": []
  }
 ],
 "metadata": {
  "kernelspec": {
   "display_name": "Python 3 (ipykernel)",
   "language": "python",
   "name": "python3"
  },
  "language_info": {
   "codemirror_mode": {
    "name": "ipython",
    "version": 3
   },
   "file_extension": ".py",
   "mimetype": "text/x-python",
   "name": "python",
   "nbconvert_exporter": "python",
   "pygments_lexer": "ipython3",
   "version": "3.11.7"
  }
 },
 "nbformat": 4,
 "nbformat_minor": 5
}
