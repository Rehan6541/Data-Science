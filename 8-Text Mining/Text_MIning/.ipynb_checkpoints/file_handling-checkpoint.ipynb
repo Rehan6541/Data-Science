{
 "cells": [
  {
   "cell_type": "code",
   "execution_count": 3,
   "id": "7cf8aa35-4a49-4838-86cb-d9ca414ac781",
   "metadata": {},
   "outputs": [],
   "source": [
    "import spacy"
   ]
  },
  {
   "cell_type": "code",
   "execution_count": 11,
   "id": "9e107e0f-2dab-4127-8987-855565b38836",
   "metadata": {},
   "outputs": [
    {
     "name": "stdout",
     "output_type": "stream",
     "text": [
      "My name is Rehan.\n",
      "My name is Rehan.\n"
     ]
    }
   ],
   "source": [
    "name=\"Rehan\"\n",
    "\n",
    "#using the old .format() method:\n",
    "print('My name is {var}.'.format(var=name))\n",
    "\n",
    "#using f-string:\n",
    "print(f'My name is {name}.')"
   ]
  },
  {
   "cell_type": "markdown",
   "id": "2e071f12-8206-49dd-a877-bfdceca464e0",
   "metadata": {},
   "source": [
    "Pass !r to get string representation"
   ]
  },
  {
   "cell_type": "code",
   "execution_count": 13,
   "id": "e6ced6e0-f336-437d-8f16-f8476d8a68cd",
   "metadata": {},
   "outputs": [
    {
     "name": "stdout",
     "output_type": "stream",
     "text": [
      "My name is 'Rehan'.\n"
     ]
    }
   ],
   "source": [
    "print(f'My name is {name!r}.')"
   ]
  },
  {
   "cell_type": "code",
   "execution_count": 20,
   "id": "b04876ed-20c1-441b-95c8-ac54f4f00c67",
   "metadata": {},
   "outputs": [
    {
     "ename": "SyntaxError",
     "evalue": "f-string: unmatched '[' (388309497.py, line 2)",
     "output_type": "error",
     "traceback": [
      "\u001b[1;36m  Cell \u001b[1;32mIn[20], line 2\u001b[1;36m\u001b[0m\n\u001b[1;33m    print(f'Address: {d['a']} Main Street')\u001b[0m\n\u001b[1;37m                         ^\u001b[0m\n\u001b[1;31mSyntaxError\u001b[0m\u001b[1;31m:\u001b[0m f-string: unmatched '['\n"
     ]
    }
   ],
   "source": [
    "d={'a':123,'b':456}\n",
    "print(f'Address: {d['a']} Main Street')\n",
    "#Error=Unmatched f string"
   ]
  },
  {
   "cell_type": "code",
   "execution_count": 22,
   "id": "0cbf88ac-98fe-4f1a-a48c-ead88ec9bc79",
   "metadata": {},
   "outputs": [
    {
     "name": "stdout",
     "output_type": "stream",
     "text": [
      "Address: 123 Main Street\n"
     ]
    }
   ],
   "source": [
    "d={'a':123,'b':456}\n",
    "print(f\"Address: {d['a']} Main Street\")"
   ]
  },
  {
   "cell_type": "code",
   "execution_count": 29,
   "id": "999229ed-7504-4ae7-be22-45b2cf42dde2",
   "metadata": {},
   "outputs": [
    {
     "name": "stdout",
     "output_type": "stream",
     "text": [
      "Author     Topic    Pages  \n",
      "Twain      Rafting      601\n",
      "Feynman    Physics       95\n",
      "Hamilton   Mythology     144\n"
     ]
    }
   ],
   "source": [
    "library=[('Author','Topic','Pages'),\n",
    "        ('Twain','Rafting',601),\n",
    "        ('Feynman','Physics',95),\n",
    "        ('Hamilton','Mythology',144),]\n",
    "\n",
    "for  books in library:\n",
    "    print(f'{books[0]:{10}} {books[1]:{8}} {books[2]:{7}}')"
   ]
  },
  {
   "cell_type": "code",
   "execution_count": 31,
   "id": "a292db34-506a-4614-a757-6ac954bf7f34",
   "metadata": {},
   "outputs": [
    {
     "name": "stdout",
     "output_type": "stream",
     "text": [
      "Author     Topic    ..Pages\n",
      "Twain      Rafting  ....601\n",
      "Feynman    Physics  .....95\n",
      "Hamilton   Mythology ....144\n"
     ]
    }
   ],
   "source": [
    "for  books in library:\n",
    "    print(f'{books[0]:{10}} {books[1]:{8}} {books[2]:.>{7}}')#.>right alignment"
   ]
  },
  {
   "cell_type": "code",
   "execution_count": null,
   "id": "f52a8fa2-da2d-42e3-96b7-1e8d3abba00d",
   "metadata": {},
   "outputs": [],
   "source": []
  }
 ],
 "metadata": {
  "kernelspec": {
   "display_name": "Python 3 (ipykernel)",
   "language": "python",
   "name": "python3"
  },
  "language_info": {
   "codemirror_mode": {
    "name": "ipython",
    "version": 3
   },
   "file_extension": ".py",
   "mimetype": "text/x-python",
   "name": "python",
   "nbconvert_exporter": "python",
   "pygments_lexer": "ipython3",
   "version": "3.11.7"
  }
 },
 "nbformat": 4,
 "nbformat_minor": 5
}
