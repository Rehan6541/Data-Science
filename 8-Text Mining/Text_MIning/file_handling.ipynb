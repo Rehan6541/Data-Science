{
 "cells": [
  {
   "cell_type": "code",
   "execution_count": 2,
   "id": "7cf8aa35-4a49-4838-86cb-d9ca414ac781",
   "metadata": {},
   "outputs": [],
   "source": [
    "import spacy"
   ]
  },
  {
   "cell_type": "code",
   "execution_count": 3,
   "id": "9e107e0f-2dab-4127-8987-855565b38836",
   "metadata": {},
   "outputs": [
    {
     "name": "stdout",
     "output_type": "stream",
     "text": [
      "My name is Rehan.\n",
      "My name is Rehan.\n"
     ]
    }
   ],
   "source": [
    "name=\"Rehan\"\n",
    "\n",
    "#using the old .format() method:\n",
    "print('My name is {var}.'.format(var=name))\n",
    "\n",
    "#using f-string:\n",
    "print(f'My name is {name}.')"
   ]
  },
  {
   "cell_type": "markdown",
   "id": "2e071f12-8206-49dd-a877-bfdceca464e0",
   "metadata": {},
   "source": [
    "Pass !r to get string representation"
   ]
  },
  {
   "cell_type": "code",
   "execution_count": 7,
   "id": "e6ced6e0-f336-437d-8f16-f8476d8a68cd",
   "metadata": {},
   "outputs": [
    {
     "name": "stdout",
     "output_type": "stream",
     "text": [
      "My name is 'Rehan'.\n"
     ]
    }
   ],
   "source": [
    "print(f'My name is {name!r}.')"
   ]
  },
  {
   "cell_type": "code",
   "execution_count": 9,
   "id": "b04876ed-20c1-441b-95c8-ac54f4f00c67",
   "metadata": {},
   "outputs": [
    {
     "ename": "SyntaxError",
     "evalue": "f-string: unmatched '[' (388309497.py, line 2)",
     "output_type": "error",
     "traceback": [
      "\u001b[1;36m  Cell \u001b[1;32mIn[9], line 2\u001b[1;36m\u001b[0m\n\u001b[1;33m    print(f'Address: {d['a']} Main Street')\u001b[0m\n\u001b[1;37m                         ^\u001b[0m\n\u001b[1;31mSyntaxError\u001b[0m\u001b[1;31m:\u001b[0m f-string: unmatched '['\n"
     ]
    }
   ],
   "source": [
    "d={'a':123,'b':456}\n",
    "print(f'Address: {d['a']} Main Street')\n",
    "#Error=Unmatched f string"
   ]
  },
  {
   "cell_type": "code",
   "execution_count": 17,
   "id": "0cbf88ac-98fe-4f1a-a48c-ead88ec9bc79",
   "metadata": {},
   "outputs": [
    {
     "name": "stdout",
     "output_type": "stream",
     "text": [
      "Address: 123 Main Street\n"
     ]
    }
   ],
   "source": [
    "d={'a':123,'b':456}\n",
    "print(f\"Address: {d['a']} Main Street\")"
   ]
  },
  {
   "cell_type": "code",
   "execution_count": 19,
   "id": "999229ed-7504-4ae7-be22-45b2cf42dde2",
   "metadata": {},
   "outputs": [
    {
     "name": "stdout",
     "output_type": "stream",
     "text": [
      "Author     Topic    Pages  \n",
      "Twain      Rafting      601\n",
      "Feynman    Physics       95\n",
      "Hamilton   Mythology     144\n"
     ]
    }
   ],
   "source": [
    "library=[('Author','Topic','Pages'),\n",
    "        ('Twain','Rafting',601),\n",
    "        ('Feynman','Physics',95),\n",
    "        ('Hamilton','Mythology',144),]\n",
    "\n",
    "for  books in library:\n",
    "    print(f'{books[0]:{10}} {books[1]:{8}} {books[2]:{7}}')"
   ]
  },
  {
   "cell_type": "code",
   "execution_count": 15,
   "id": "a292db34-506a-4614-a757-6ac954bf7f34",
   "metadata": {},
   "outputs": [
    {
     "name": "stdout",
     "output_type": "stream",
     "text": [
      "Author     Topic    ..Pages\n",
      "Twain      Rafting  ....601\n",
      "Feynman    Physics  .....95\n",
      "Hamilton   Mythology ....144\n"
     ]
    }
   ],
   "source": [
    "for  books in library:\n",
    "    print(f'{books[0]:{10}} {books[1]:{8}} {books[2]:.>{7}}')\n",
    "#.>right alignment\n",
    "#.<left alignment\n",
    "#.^center alignment"
   ]
  },
  {
   "cell_type": "markdown",
   "id": "641ddeb9-477b-4902-ab07-5e87460a8992",
   "metadata": {},
   "source": [
    "Date formatting"
   ]
  },
  {
   "cell_type": "code",
   "execution_count": 82,
   "id": "0087819e-a1b7-4da2-b247-094993baa0ee",
   "metadata": {},
   "outputs": [
    {
     "name": "stdout",
     "output_type": "stream",
     "text": [
      "August 22,2024\n"
     ]
    }
   ],
   "source": [
    "from datetime import datetime\n",
    "today = datetime(year=2024,month=8,day=22)\n",
    "print(f'{today:%B %d,%Y}')"
   ]
  },
  {
   "cell_type": "markdown",
   "id": "79760a27-b27b-4e45-b00a-819ad3365a9b",
   "metadata": {},
   "source": [
    "File Handling"
   ]
  },
  {
   "cell_type": "code",
   "execution_count": 85,
   "id": "827d4d07-d908-4166-a7e6-046243be8ffc",
   "metadata": {},
   "outputs": [
    {
     "data": {
      "text/plain": [
       "'C:\\\\8-Text Mining\\\\Text_MIning'"
      ]
     },
     "execution_count": 85,
     "metadata": {},
     "output_type": "execute_result"
    }
   ],
   "source": [
    "pwd"
   ]
  },
  {
   "cell_type": "code",
   "execution_count": 87,
   "id": "b075133f-f86a-401e-b5af-eab9d050f42c",
   "metadata": {},
   "outputs": [
    {
     "name": "stderr",
     "output_type": "stream",
     "text": [
      "UsageError: unrecognized arguments: #for creating a .txt file in working directory\n"
     ]
    }
   ],
   "source": [
    "%%writefile test.txt   #for creating a .txt file in working directory\n",
    "Hello,this is a quick test file.\n",
    "This is the second line of the file"
   ]
  },
  {
   "cell_type": "code",
   "execution_count": 89,
   "id": "9e07aab2-bfb0-44af-b423-5af2575896f7",
   "metadata": {},
   "outputs": [
    {
     "ename": "FileNotFoundError",
     "evalue": "[Errno 2] No such file or directory: 'whoops.txt'",
     "output_type": "error",
     "traceback": [
      "\u001b[1;31m---------------------------------------------------------------------------\u001b[0m",
      "\u001b[1;31mFileNotFoundError\u001b[0m                         Traceback (most recent call last)",
      "Cell \u001b[1;32mIn[89], line 1\u001b[0m\n\u001b[1;32m----> 1\u001b[0m mmyfile\u001b[38;5;241m=\u001b[39m\u001b[38;5;28mopen\u001b[39m(\u001b[38;5;124m'\u001b[39m\u001b[38;5;124mwhoops.txt\u001b[39m\u001b[38;5;124m'\u001b[39m)\n",
      "File \u001b[1;32m~\\anaconda3\\Lib\\site-packages\\IPython\\core\\interactiveshell.py:310\u001b[0m, in \u001b[0;36m_modified_open\u001b[1;34m(file, *args, **kwargs)\u001b[0m\n\u001b[0;32m    303\u001b[0m \u001b[38;5;28;01mif\u001b[39;00m file \u001b[38;5;129;01min\u001b[39;00m {\u001b[38;5;241m0\u001b[39m, \u001b[38;5;241m1\u001b[39m, \u001b[38;5;241m2\u001b[39m}:\n\u001b[0;32m    304\u001b[0m     \u001b[38;5;28;01mraise\u001b[39;00m \u001b[38;5;167;01mValueError\u001b[39;00m(\n\u001b[0;32m    305\u001b[0m         \u001b[38;5;124mf\u001b[39m\u001b[38;5;124m\"\u001b[39m\u001b[38;5;124mIPython won\u001b[39m\u001b[38;5;124m'\u001b[39m\u001b[38;5;124mt let you open fd=\u001b[39m\u001b[38;5;132;01m{\u001b[39;00mfile\u001b[38;5;132;01m}\u001b[39;00m\u001b[38;5;124m by default \u001b[39m\u001b[38;5;124m\"\u001b[39m\n\u001b[0;32m    306\u001b[0m         \u001b[38;5;124m\"\u001b[39m\u001b[38;5;124mas it is likely to crash IPython. If you know what you are doing, \u001b[39m\u001b[38;5;124m\"\u001b[39m\n\u001b[0;32m    307\u001b[0m         \u001b[38;5;124m\"\u001b[39m\u001b[38;5;124myou can use builtins\u001b[39m\u001b[38;5;124m'\u001b[39m\u001b[38;5;124m open.\u001b[39m\u001b[38;5;124m\"\u001b[39m\n\u001b[0;32m    308\u001b[0m     )\n\u001b[1;32m--> 310\u001b[0m \u001b[38;5;28;01mreturn\u001b[39;00m io_open(file, \u001b[38;5;241m*\u001b[39margs, \u001b[38;5;241m*\u001b[39m\u001b[38;5;241m*\u001b[39mkwargs)\n",
      "\u001b[1;31mFileNotFoundError\u001b[0m: [Errno 2] No such file or directory: 'whoops.txt'"
     ]
    }
   ],
   "source": [
    "mmyfile=open('whoops.txt')\n",
    "#Error due to whoop.txt is not present"
   ]
  },
  {
   "cell_type": "code",
   "execution_count": 91,
   "id": "e1902030-3dfe-4f7c-8929-1ed1d9f1e4c6",
   "metadata": {},
   "outputs": [],
   "source": [
    "#Open the .txt file which we have already created\n",
    "my_file=open('test.txt')"
   ]
  },
  {
   "cell_type": "markdown",
   "id": "174c1816-50e4-470f-91fd-09a945755d49",
   "metadata": {},
   "source": [
    "my_file is now open file object held in meomry. We'll perform some reading and writting exercise, and then we have to close the file to free upe memory.\n",
    "\n",
    "read() and seek()"
   ]
  },
  {
   "cell_type": "code",
   "execution_count": 94,
   "id": "f6e53c8e-301e-474b-87ec-cc0d2c0f7870",
   "metadata": {},
   "outputs": [
    {
     "data": {
      "text/plain": [
       "'Hello,this is a quick test file.\\nThis is the second line of the file\\n'"
      ]
     },
     "execution_count": 94,
     "metadata": {},
     "output_type": "execute_result"
    }
   ],
   "source": [
    "#We can now read the file\n",
    "my_file.read()"
   ]
  },
  {
   "cell_type": "code",
   "execution_count": 96,
   "id": "c787eb93-fcda-451e-85f8-e3b149d51c57",
   "metadata": {},
   "outputs": [
    {
     "data": {
      "text/plain": [
       "''"
      ]
     },
     "execution_count": 96,
     "metadata": {},
     "output_type": "execute_result"
    }
   ],
   "source": [
    "#What will happen when we try to read the file again?\n",
    "my_file.read()"
   ]
  },
  {
   "cell_type": "markdown",
   "id": "0aad03ab-e8f4-45fc-b003-96e5fb98397e",
   "metadata": {},
   "source": [
    "This happens because you can imagine the reading \"cursor\" is at the end of the file after having read it. So there is nothing left to read.We can reset the \"cursor\" like this:"
   ]
  },
  {
   "cell_type": "code",
   "execution_count": 99,
   "id": "d9da30d4-85e6-4f59-aac9-e608c9e532ba",
   "metadata": {},
   "outputs": [
    {
     "data": {
      "text/plain": [
       "0"
      ]
     },
     "execution_count": 99,
     "metadata": {},
     "output_type": "execute_result"
    }
   ],
   "source": [
    "#Seek to the start  of file(index 0)\n",
    "my_file.seek(0)"
   ]
  },
  {
   "cell_type": "markdown",
   "id": "926ba6c3-8c2d-45a6-bba0-b70bd283d45f",
   "metadata": {},
   "source": [
    "#Now read the file again\n",
    "my_file.read()"
   ]
  },
  {
   "cell_type": "code",
   "execution_count": 103,
   "id": "3f1d80da-633a-4540-9f29-dcd7749fbd61",
   "metadata": {},
   "outputs": [
    {
     "data": {
      "text/plain": [
       "['Hello,this is a quick test file.\\n', 'This is the second line of the file\\n']"
      ]
     },
     "execution_count": 103,
     "metadata": {},
     "output_type": "execute_result"
    }
   ],
   "source": [
    "#Readlines returns a list of the lines in the file.\n",
    "my_file.seek(0)\n",
    "my_file.readlines()"
   ]
  },
  {
   "cell_type": "code",
   "execution_count": 64,
   "id": "b2794937-bf72-43e6-9d0c-05763eb1df57",
   "metadata": {},
   "outputs": [],
   "source": [
    "#to close the file\n",
    "my_file.close()"
   ]
  },
  {
   "cell_type": "markdown",
   "id": "84f11732-c90c-494c-bee8-07aadcb530f0",
   "metadata": {},
   "source": [
    "Writing to a file"
   ]
  },
  {
   "cell_type": "markdown",
   "id": "60a7f35f-2155-4300-9780-eeed05cdbe67",
   "metadata": {},
   "source": [
    "By default the open(),function only allows us to read the file.We need to pass the argument 'w' to writr the file.For example"
   ]
  },
  {
   "cell_type": "code",
   "execution_count": 107,
   "id": "a9b3a205-5ef7-42f9-b287-d3af096b0654",
   "metadata": {},
   "outputs": [],
   "source": [
    "#Add a second argument to the function,'w' which stands for write.\n",
    "#PAssing 'w+' lets read and write to the file\n",
    "my_file=open('test.txt','w+')"
   ]
  },
  {
   "cell_type": "code",
   "execution_count": 109,
   "id": "83a517a5-93a2-4ca2-8375-a4cc3a330ade",
   "metadata": {},
   "outputs": [
    {
     "data": {
      "text/plain": [
       "24"
      ]
     },
     "execution_count": 109,
     "metadata": {},
     "output_type": "execute_result"
    }
   ],
   "source": [
    "#Write the file\n",
    "my_file.write('This is a new first line')"
   ]
  },
  {
   "cell_type": "code",
   "execution_count": 115,
   "id": "7127ccc2-2bca-4ff1-9a88-67a489cac327",
   "metadata": {},
   "outputs": [
    {
     "data": {
      "text/plain": [
       "'This is a new first line'"
      ]
     },
     "execution_count": 115,
     "metadata": {},
     "output_type": "execute_result"
    }
   ],
   "source": [
    "#Read the file\n",
    "my_file.seek(0)\n",
    "my_file.read()"
   ]
  },
  {
   "cell_type": "code",
   "execution_count": 117,
   "id": "b61cde4c-63e6-4c13-8c0f-bf06588e0f91",
   "metadata": {},
   "outputs": [],
   "source": [
    "my_file.close()#always do this when you are done with a file"
   ]
  },
  {
   "cell_type": "markdown",
   "id": "e3c24245-37e3-45c3-a3a0-17f3735b2b97",
   "metadata": {},
   "source": [
    "Appending to a file"
   ]
  },
  {
   "cell_type": "markdown",
   "id": "18a0a3a8-9f27-4229-ac55-578447663cf8",
   "metadata": {},
   "source": [
    "Passing the argument 'a' opens the file and puts the pointer at the end, so anything written is append. like 'w+', 'a+' lets us read and write to a file. If the file does not  exist, one will be created."
   ]
  },
  {
   "cell_type": "code",
   "execution_count": 126,
   "id": "0cc89689-2c7d-4bd8-99d6-c810d4a8743c",
   "metadata": {},
   "outputs": [
    {
     "data": {
      "text/plain": [
       "22"
      ]
     },
     "execution_count": 126,
     "metadata": {},
     "output_type": "execute_result"
    }
   ],
   "source": [
    "my_file=open('test.txt','a+')\n",
    "my_file.write(\"\\nThis line is the being appended to test.txt\")\n",
    "my_file.write(\"\\nAnd another line here\")"
   ]
  },
  {
   "cell_type": "code",
   "execution_count": 130,
   "id": "280dc900-4bdc-4ec7-93db-60c5c0cd9639",
   "metadata": {},
   "outputs": [
    {
     "name": "stdout",
     "output_type": "stream",
     "text": [
      "This is a new first line\n",
      "This line is the being appended to test.txt\n",
      "And another line here\n"
     ]
    }
   ],
   "source": [
    "my_file.seek(0)\n",
    "print(my_file.read())"
   ]
  },
  {
   "cell_type": "code",
   "execution_count": 132,
   "id": "dfe941ae-1183-4e6c-9fa1-4c279c1a1ae1",
   "metadata": {},
   "outputs": [],
   "source": [
    "my_file.close()"
   ]
  }
 ],
 "metadata": {
  "kernelspec": {
   "display_name": "Python 3 (ipykernel)",
   "language": "python",
   "name": "python3"
  },
  "language_info": {
   "codemirror_mode": {
    "name": "ipython",
    "version": 3
   },
   "file_extension": ".py",
   "mimetype": "text/x-python",
   "name": "python",
   "nbconvert_exporter": "python",
   "pygments_lexer": "ipython3",
   "version": "3.11.7"
  }
 },
 "nbformat": 4,
 "nbformat_minor": 5
}
