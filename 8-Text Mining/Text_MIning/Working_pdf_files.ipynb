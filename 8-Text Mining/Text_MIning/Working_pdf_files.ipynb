{
 "cells": [
  {
   "cell_type": "markdown",
   "id": "dd6c73c7-a2aa-44eb-bb7b-2e1997245643",
   "metadata": {},
   "source": [
    "WORKING WITH PDF FILES"
   ]
  },
  {
   "cell_type": "code",
   "execution_count": 1,
   "id": "7d1dbb76-5256-4042-90ee-577529c7cacf",
   "metadata": {},
   "outputs": [
    {
     "name": "stdout",
     "output_type": "stream",
     "text": [
      "Requirement already satisfied: PyPDF2 in c:\\users\\hp\\anaconda3\\lib\\site-packages (3.0.1)\n",
      "Note: you may need to restart the kernel to use updated packages.\n"
     ]
    }
   ],
   "source": [
    "pip install PyPDF2"
   ]
  },
  {
   "cell_type": "code",
   "execution_count": 3,
   "id": "df396f0b-d3ed-436e-aabb-563a7e0cb8a0",
   "metadata": {},
   "outputs": [],
   "source": [
    "#note the capitilization\n",
    "import PyPDF2"
   ]
  },
  {
   "cell_type": "markdown",
   "id": "d06c75c2-236f-4631-85bf-a9438b7f9b24",
   "metadata": {},
   "source": [
    "Reading pdfs"
   ]
  },
  {
   "cell_type": "code",
   "execution_count": 6,
   "id": "332fd979-e989-42fd-a218-08fd6c247b16",
   "metadata": {},
   "outputs": [],
   "source": [
    "#Notice we read it as a binary with 'rb'\n",
    "f=open(\"US_Declaration.pdf\",'rb')"
   ]
  },
  {
   "cell_type": "code",
   "execution_count": 8,
   "id": "ce309d6f-9e46-470e-bfca-e24e6e7a14b0",
   "metadata": {},
   "outputs": [],
   "source": [
    "pdf_reader=PyPDF2.PdfReader(f)"
   ]
  },
  {
   "cell_type": "code",
   "execution_count": 10,
   "id": "e4aca5cd-f634-485b-8a58-36f3d1539014",
   "metadata": {},
   "outputs": [],
   "source": [
    "page_one=pdf_reader.pages[0]"
   ]
  },
  {
   "cell_type": "markdown",
   "id": "e61a11f3-8c97-473d-a305-4440164c9979",
   "metadata": {},
   "source": [
    "we can then extract the text from page_one"
   ]
  },
  {
   "cell_type": "code",
   "execution_count": 13,
   "id": "ae91c434-5200-452f-9df0-c650d1b81133",
   "metadata": {},
   "outputs": [],
   "source": [
    "page_one_text=page_one.extract_text()"
   ]
  },
  {
   "cell_type": "code",
   "execution_count": 15,
   "id": "c633c4ef-1bc8-4229-8767-7e6e2958f990",
   "metadata": {},
   "outputs": [
    {
     "data": {
      "text/plain": [
       "\"Declaration of Independence\\nIN CONGRESS, July 4, 1776.  \\nThe unanimous Declaration of the thirteen united States of America,  \\nWhen in the Course of human events, it becomes necessary for one people to dissolve thepolitical bands which have connected them with another, and to assume among the powers of theearth, the separate and equal station to which the Laws of Nature and of Nature's God entitlethem, a decent respect to the opinions of mankind requires that they should declare the causeswhich impel them to the separation. We hold these truths to be self-evident, that all men are created equal, that they are endowed bytheir Creator with certain unalienable Rights, that among these are Life, Liberty and the pursuit\\nof Happiness.— \\x14That to secure these rights, Governments are instituted among Men, derivingtheir just powers from the consent of the governed,—  \\x14That whenever any Form of Government\\nbecomes destructive of these ends, it is the Right of the People to alter or to abolish it, and to\\ninstitute new Government, laying its foundation on such principles and organizing its powers in\\nsuch form, as to them shall seem most likely to effect their Safety and Happiness. Prudence,indeed, will dictate that Governments long established should not be changed for light andtransient causes; and accordingly all experience hath shewn, that mankind are more disposed to\\nsuffer, while evils are sufferable, than to right themselves by abolishing the forms to which theyare accustomed. But when a long train of abuses and usurpations, pursuing invariably the same\\nObject evinces a design to reduce them under absolute Despotism, it is their right, it is their duty,\\nto throw off such Government, and to provide new Guards for their future securit y.— \\x14Such has\\nbeen the patient sufferance of these Colonies; and such is now the necessity which constrainsthem to alter their former Systems of Government. The history of the present King of GreatBritain is a history of repeated injuries and usurpations, all having in direct object the\\nestablishment of an absolute Tyranny over these States. To prove this, let Facts be submitted to a\\ncandid world. \\nHe has refused his Assent to Laws, the most wholesome and necessary for the\\npublic good.He has forbidden his Governors to pass Laws of immediate and pressingimportance, unless suspended in their operation till his Assent should be obtained;and when so suspended, he has utterly neglected to attend to them.He has refused to pass other Laws for the accommodation of large districts of\\npeople, unless those people would relinquish the right of Representation in theLegislature, a right inestimable to them and formidable to tyrants only. He has called together legislative bodies at places unusual, uncomfortable, and distantfrom the depository of their public Records, for the sole purpose of fatiguing them into\\ncompliance with his measures.\""
      ]
     },
     "execution_count": 15,
     "metadata": {},
     "output_type": "execute_result"
    }
   ],
   "source": [
    "page_one_text"
   ]
  },
  {
   "cell_type": "code",
   "execution_count": 17,
   "id": "66d4dcfb-e088-4c75-84a8-80c2bc539d29",
   "metadata": {},
   "outputs": [],
   "source": [
    "k=open(\"kopargaon-part-1.pdf\",'rb')"
   ]
  },
  {
   "cell_type": "code",
   "execution_count": 19,
   "id": "663bf854-3915-4dbb-b9e4-4ee242d3a56e",
   "metadata": {},
   "outputs": [],
   "source": [
    "pdf_reader=PyPDF2.PdfReader(k)"
   ]
  },
  {
   "cell_type": "code",
   "execution_count": 21,
   "id": "8eb29f06-4210-4dc1-8035-5a5b213e05ef",
   "metadata": {},
   "outputs": [],
   "source": [
    "page_one=pdf_reader.pages[0]"
   ]
  },
  {
   "cell_type": "code",
   "execution_count": 23,
   "id": "3e65bedf-7911-4f50-bb84-115012e6a4e3",
   "metadata": {},
   "outputs": [],
   "source": [
    "page_one_text=page_one.extract_text()"
   ]
  },
  {
   "cell_type": "code",
   "execution_count": 25,
   "id": "0350efe1-5c90-4fbb-91fe-34e313821b5b",
   "metadata": {},
   "outputs": [
    {
     "data": {
      "text/plain": [
       "'\\\\\\x10Đ\\x10\\n\\x98\\x8f\\x91ȡ\\x9aȡ\\x85ȯ\\x03\\x93ȡ\\x9d\\n\\x93ȡ\\x8fȯ\\x9dȡ_\\x80ȡ\\x85ȯ\\n\\x94×\\x8fȡ\\n\\x9eȡ\\x9cȡ\\x03\\x11\\x03\\x80Ȩ\\x9bȯ\\x87\\n\\x9d\\x99\\nͧ\\x9bȲ\\x82\\nj\\x9c\\x81\\x94ğ\\x03ĐȲ\\x10\\n\\x98\\x8f\\x91ȡ\\x9aȡ\\x85\\nʜȯ\\x03\\n\\x86ȡ\\x99ȡͬ\\x85ğ\\nC\\nD\\nE\\nF\\nG\\nH\\nI\\nJ\\nK\\n1\\n\\x9dȲ\\x91\\x93ȡ\\x03\\x87\\x82\\x88ȡ\\x94\\n\\x80Ǚç\\x8e\\x9aȡ\\x9d\\x03\\n\\x87\\x82\\x88ȡ\\x94\\n\\x83\\x10Đ\\x10\\x03\\n0\\n\\x03\\x92ȡ\\x98Ȫ\\x9aȣ\\x03\\n\\x98¡ȡ\\x9aȡçĚ\\n\\x98Ǖ\\x10\\x94Ȫ\\x10\\x03\\x92ȡ\\x98Ȫ\\x9aȣ\\n\\x8fȡ\\x10\\x03\\x80Ȫ\\x94\\x9a\\x82ȡ\\x9d\\nǔ\\x87\\x10\\x03\\\\¡\\x98\\x91\\x93\\x82\\x9a\\n\\x92ȡ\\x98Ȫ\\x9aȣ\\x03\\n423601\\nSHRI SHARDA \\nENGLISH \\nMEDIUM \\nSCHOOL \\nKOPARGAON \\n52\\nèğȢ\\n (Deleted)\\nY\\n2\\nĤ\\x97ȡ\\x80\\x9a\\x03]\\x97ȡ\\x9cȯ\\nĤ\\x97ȡ\\x80\\x9a\\x03]\\x97ȡ\\x9cȯ\\n\\x83\\x10Đ\\x10\\x03\\n00\\n\\x03\\x98\\x92Ȣ\\x03\\x98\\x92Ȣ\\n\\x98Ǖ\\x10\\x94Ȫ\\x10\\x03\\x80Ȫ\\x94\\x9a\\x82ȡ\\x9d\\n\\x8fȡ\\x10\\x03\\x80Ȫ\\x94\\x9a\\x82ȡ\\x9d\\nǔ\\x87\\x10\\x03\\\\¡\\x98\\x91\\x93\\x82\\x9a\\n\\x80Ȫ\\x94\\x9a\\x82ȡ\\x9d\\x03\\nĒȡ\\x98Ȣ\\x8e\\x0b\\x03\\n423601\\nRADAHBAI KALE \\nVIDYA \\nKOLPEWADI\\n54\\n\\x94Ǖ\\nY\\n3\\nĤ\\x80ȡ\\x9e\\x03]\\x97ȡ\\x9cȯ\\n\\x87\\x82Û\\x93ȡ\\x90\\x03\\n]\\x97ȡ\\x9bȯ\\n\\x83\\x10Đ\\x10\\x03\\n0\\n\\x03\\x98\\x8dȣ\\x03\\x96Ǖ\\x03\\x98\\x8dȣ\\x03\\x96Ǖ\\n\\x98Ǖ\\x10\\x94Ȫ\\x10\\x03\\x80Ȫ\\x94\\x9a\\x82ȡ\\x9d\\n\\x8fȡ\\x10\\x03\\x80Ȫ\\x94\\x9a\\x82ȡ\\x9d\\nǔ\\x87\\x10\\x03\\\\¡\\x98\\x91\\x93\\x82\\x9a\\n\\x80Ȫ\\x94\\x9a\\x82ȡȲ\\x9d\\x03\\nf\\x98\\x03È\\x9b\\x0b\\x03\\n423601\\nNEW ENGLISH \\nSCHOOL, \\nKANKURI \\n53\\n\\x94Ǖ\\nY\\n4\\n\\x96ȡ\\x96ȡ\\xa0ȡ¡ȯ\\x96\\x03\\n]\\x97ȡ\\x9cȯ\\n\\\\Ö\\x8eȡ\\xa0ȡ¡ȯ\\x96\\x03\\n]\\x97ȡ\\x9cȯ\\n\\x83\\x10Đ\\x10\\x03\\n00\\n\\x03\\x98\\x92Ȣ\\x03\\x98\\x92Ȣ\\n\\x98Ǖ\\x10\\x94Ȫ\\x10\\x03\\x80Ȫ\\x94\\x9a\\x82ȡ\\x9d\\n\\x8fȡ\\x10\\x03\\x80Ȫ\\x94\\x9a\\x82ȡ\\x9d\\nǔ\\x87\\x10\\x03\\\\¡\\x98\\x91\\x93\\x82\\x9a\\n\\x80Ȫ\\x94\\x9a\\x82ȡ\\x9d\\x03\\nĒȡ\\x98Ȣ\\x8e\\x0b\\x03\\n423601\\nJAGDAMBA \\nSCHOOL \\nBABULGAON\\n39\\n\\x94Ǖ\\n00\\nY\\n5\\n\\xa0ͪ\\x9d\\x8fȡ\\x03]\\x97ȡ\\x9cȯ\\n\\x9aȡ\\x87\\x03ͪ\\x9d\\x9e\\x03\\n]\\x97ȡ\\x9cȯ\\n\\x83\\x10Đ\\x10\\x03\\n00\\n\\x03\\x98\\x92Ȣ\\x03\\n\\x80Ȫ\\x94\\x9a\\x82ȡ\\x9d\\n\\x98Ǖ\\x10\\x94Ȫ\\x10\\x03\\x80Ȫ\\x94\\x9a\\x82ȡ\\x9d\\n\\x8fȡ\\x10\\x03\\x80Ȫ\\x94\\x9a\\x82ȡ\\x9d\\nǔ\\x87\\x10\\x03\\\\¡\\x98\\x91\\x93\\x82\\x9a\\n\\x80Ȫ\\x94\\x9a\\x82ȡ\\x9d\\x03\\nĒȡ\\x98Ȣ\\x8e\\x0b\\x03\\n423601\\nSANJIVANI \\nENGLISH \\nSCHOOL\\n37\\nèğȢ\\nY\\nPage No.: \\n1 of 405\\n\\x98¡ȡ\\x9aȡçĚ\\x03\\x9aȡÏ\\x99\\x03ͪ\\x9d\\x92ȡ\\x93\\x03\\x94ǐ\\x9a\\x9f\\x91\\x03\\x98\\x8f\\x91ȡ\\x9a\\x03\\x99ȡ\\x91ȣ\\x03\\x0f\\x03\\nDBDF\\n\\x93ȡͧ\\x9e\\x80\\x03ͪ\\x9d\\x97ȡ\\x82\\x03ͧ\\x9e¢\\x80\\x03\\x98\\x8f\\x91ȡ\\x9a\\x03\\xa0Ȳ\\x83\\nBI\\x0fBH\\x0fDBDF\\x03\\n\\x94\\x99ɍ\\x8f\\x03\\x8f\\x99ȡ\\x9a\\x03\\x80\\x9aÖ\\x99ȡ\\x8f\\x03]\\x9bȯ\\x9bȣ\\x03\\x98\\x8f\\x91ȡ\\x9a\\x03\\x99ȡ\\x91ȣ\\n\\\\ȲǓ\\x8f\\x98\\x03\\x98\\x8f\\x91ȡ\\x9a\\x03\\x99ȡ\\x91ȣ\\nĤȡǾ\\x94\\x03\\x98\\x8f\\x91ȡ\\x9a\\x03\\x99ȡ\\x91ȣ\\x03\\r\\x03\\x94Ǖ\\x9a\\x9d\\x8eȢ\\x03\\nC\\x0b\\x03\\r\\x03\\n\\x94Ǖ\\x9a\\x9d\\x8eȢ\\x03\\nD\\nǔ\\x87ãé\\x99ȡ\\x85ȯ\\x03\\x93ȡ\\x9d\\x1c\\x03\\x03\\\\¡\\x98\\x91\\x93\\x82\\x9a\\n\\x97ȡ\\x82\\x03Đ\\x98ȡȲ\\x80\\x1c\\x03\\x03\\x16\\x1b\\n\\\\¡[\\x8fȡ\\x03Ǒ\\x91\\x93ȡȲ\\x80\\x03\\x1c\\x03\\nBC\\x0fCC\\x0fDBDE\\n\\\\ȲǓ\\x8f\\x98\\x03\\x98\\x8f\\x91ȡ\\x9a\\x03\\x99ȡ\\x91ȣ\\x03Ĥͧ\\xa0ƨȢ\\x85ȡ\\nǑ\\x91\\x93ȡȲ\\x80\\x03\\x1c\\x03\\nEB\\x0fCD\\x0fDBDE\\n'"
      ]
     },
     "execution_count": 25,
     "metadata": {},
     "output_type": "execute_result"
    }
   ],
   "source": [
    "page_one_text"
   ]
  },
  {
   "cell_type": "code",
   "execution_count": 27,
   "id": "08096cf6-6f9a-42c1-9274-192d6339247e",
   "metadata": {},
   "outputs": [
    {
     "data": {
      "text/plain": [
       "<function BufferedReader.close>"
      ]
     },
     "execution_count": 27,
     "metadata": {},
     "output_type": "execute_result"
    }
   ],
   "source": [
    "f.close"
   ]
  },
  {
   "cell_type": "code",
   "execution_count": null,
   "id": "dd454aa1-ab3e-45ac-863e-4875018f40da",
   "metadata": {},
   "outputs": [],
   "source": []
  }
 ],
 "metadata": {
  "kernelspec": {
   "display_name": "Python 3 (ipykernel)",
   "language": "python",
   "name": "python3"
  },
  "language_info": {
   "codemirror_mode": {
    "name": "ipython",
    "version": 3
   },
   "file_extension": ".py",
   "mimetype": "text/x-python",
   "name": "python",
   "nbconvert_exporter": "python",
   "pygments_lexer": "ipython3",
   "version": "3.11.7"
  }
 },
 "nbformat": 4,
 "nbformat_minor": 5
}
