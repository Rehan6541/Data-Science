{
 "cells": [
  {
   "cell_type": "code",
   "execution_count": 3,
   "id": "92b66e18-8fc6-4c20-a97d-11722c367cad",
   "metadata": {},
   "outputs": [],
   "source": [
    "import pandas as pd \n",
    "from sklearn.ensemble import AdaBoostClassifier \n",
    "from sklearn.model_selection import train_test_split\n",
    "from sklearn import metrics"
   ]
  },
  {
   "cell_type": "code",
   "execution_count": 7,
   "id": "a2b9e21a-202c-4ed0-9630-34be07c4fcdb",
   "metadata": {},
   "outputs": [],
   "source": [
    "import warnings\n",
    "warnings.filterwarnings('ignore')"
   ]
  },
  {
   "cell_type": "code",
   "execution_count": 9,
   "id": "6321fad5-0ada-41eb-a1cb-db59c1b1fd68",
   "metadata": {},
   "outputs": [
    {
     "data": {
      "text/html": [
       "<div>\n",
       "<style scoped>\n",
       "    .dataframe tbody tr th:only-of-type {\n",
       "        vertical-align: middle;\n",
       "    }\n",
       "\n",
       "    .dataframe tbody tr th {\n",
       "        vertical-align: top;\n",
       "    }\n",
       "\n",
       "    .dataframe thead th {\n",
       "        text-align: right;\n",
       "    }\n",
       "</style>\n",
       "<table border=\"1\" class=\"dataframe\">\n",
       "  <thead>\n",
       "    <tr style=\"text-align: right;\">\n",
       "      <th></th>\n",
       "      <th>age</th>\n",
       "      <th>fnlwgt</th>\n",
       "      <th>education_num</th>\n",
       "      <th>capital_gain</th>\n",
       "      <th>capital_loss</th>\n",
       "      <th>hours_per_week</th>\n",
       "      <th>income_level</th>\n",
       "    </tr>\n",
       "  </thead>\n",
       "  <tbody>\n",
       "    <tr>\n",
       "      <th>0</th>\n",
       "      <td>39</td>\n",
       "      <td>77516</td>\n",
       "      <td>13</td>\n",
       "      <td>2174</td>\n",
       "      <td>0</td>\n",
       "      <td>40</td>\n",
       "      <td>0</td>\n",
       "    </tr>\n",
       "    <tr>\n",
       "      <th>1</th>\n",
       "      <td>50</td>\n",
       "      <td>83311</td>\n",
       "      <td>13</td>\n",
       "      <td>0</td>\n",
       "      <td>0</td>\n",
       "      <td>13</td>\n",
       "      <td>0</td>\n",
       "    </tr>\n",
       "    <tr>\n",
       "      <th>2</th>\n",
       "      <td>38</td>\n",
       "      <td>215646</td>\n",
       "      <td>9</td>\n",
       "      <td>0</td>\n",
       "      <td>0</td>\n",
       "      <td>40</td>\n",
       "      <td>0</td>\n",
       "    </tr>\n",
       "    <tr>\n",
       "      <th>3</th>\n",
       "      <td>53</td>\n",
       "      <td>234721</td>\n",
       "      <td>7</td>\n",
       "      <td>0</td>\n",
       "      <td>0</td>\n",
       "      <td>40</td>\n",
       "      <td>0</td>\n",
       "    </tr>\n",
       "    <tr>\n",
       "      <th>4</th>\n",
       "      <td>28</td>\n",
       "      <td>338409</td>\n",
       "      <td>13</td>\n",
       "      <td>0</td>\n",
       "      <td>0</td>\n",
       "      <td>40</td>\n",
       "      <td>0</td>\n",
       "    </tr>\n",
       "  </tbody>\n",
       "</table>\n",
       "</div>"
      ],
      "text/plain": [
       "   age  fnlwgt  education_num  capital_gain  capital_loss  hours_per_week  \\\n",
       "0   39   77516             13          2174             0              40   \n",
       "1   50   83311             13             0             0              13   \n",
       "2   38  215646              9             0             0              40   \n",
       "3   53  234721              7             0             0              40   \n",
       "4   28  338409             13             0             0              40   \n",
       "\n",
       "   income_level  \n",
       "0             0  \n",
       "1             0  \n",
       "2             0  \n",
       "3             0  \n",
       "4             0  "
      ]
     },
     "execution_count": 9,
     "metadata": {},
     "output_type": "execute_result"
    }
   ],
   "source": [
    "#read csv file \n",
    "loan_data=pd.read_csv('income.csv')\n",
    "loan_data.columns\n",
    "loan_data.head()"
   ]
  },
  {
   "cell_type": "code",
   "execution_count": 11,
   "id": "ebddcfbd-c067-40f9-8a13-caf143e977a7",
   "metadata": {},
   "outputs": [],
   "source": [
    "#let us split the data in input and output \n",
    "X=loan_data.iloc[:,0:6]\n",
    "y=loan_data.iloc[:,6]"
   ]
  },
  {
   "cell_type": "code",
   "execution_count": 15,
   "id": "4c2f11e0-4293-4548-b0ea-74b6234acc05",
   "metadata": {},
   "outputs": [],
   "source": [
    "#Split the data set \n",
    "X_train,X_test,y_train,y_test=train_test_split(X,y,test_size=0.2)"
   ]
  },
  {
   "cell_type": "code",
   "execution_count": 33,
   "id": "fe663a4e-4fe6-4d07-aa4e-dc98d8914919",
   "metadata": {},
   "outputs": [],
   "source": [
    "#Create adaboost classifier \n",
    "ada_model=AdaBoostClassifier(n_estimators=100,learning_rate=1)\n",
    "#n_estimators for weak learners\n",
    "#learning_rate,it contributes weights of weak learners by default"
   ]
  },
  {
   "cell_type": "code",
   "execution_count": 35,
   "id": "467a3666-fd55-45a9-b489-42fc73aa43f3",
   "metadata": {},
   "outputs": [],
   "source": [
    "#Train the model\n",
    "model=ada_model.fit(X_train,y_train)"
   ]
  },
  {
   "cell_type": "code",
   "execution_count": 37,
   "id": "40bc9273-7ccd-482c-839e-0515727392b9",
   "metadata": {},
   "outputs": [
    {
     "name": "stdout",
     "output_type": "stream",
     "text": [
      "accuracy 0.8401064592076978\n"
     ]
    }
   ],
   "source": [
    "#Predict the results\n",
    "y_pred=model.predict(X_test)\n",
    "print(\"accuracy\",metrics.accuracy_score(y_test,y_pred))"
   ]
  },
  {
   "cell_type": "code",
   "execution_count": 39,
   "id": "289ecca0-a0a7-47c6-bf7c-9546ced126d6",
   "metadata": {},
   "outputs": [],
   "source": [
    "#let us try fro another base model\n",
    "from sklearn.linear_model import LogisticRegression\n",
    "lr=LogisticRegression()"
   ]
  },
  {
   "cell_type": "code",
   "execution_count": 41,
   "id": "ee2305e2-b093-4bd1-9db6-f5c82d3da3cb",
   "metadata": {},
   "outputs": [
    {
     "ename": "TypeError",
     "evalue": "AdaBoostClassifier.__init__() got an unexpected keyword argument 'base_estimator'",
     "output_type": "error",
     "traceback": [
      "\u001b[1;31m---------------------------------------------------------------------------\u001b[0m",
      "\u001b[1;31mTypeError\u001b[0m                                 Traceback (most recent call last)",
      "Cell \u001b[1;32mIn[41], line 2\u001b[0m\n\u001b[0;32m      1\u001b[0m \u001b[38;5;66;03m#Here base model is changed \u001b[39;00m\n\u001b[1;32m----> 2\u001b[0m Ada_model\u001b[38;5;241m=\u001b[39mAdaBoostClassifier(n_estimators\u001b[38;5;241m=\u001b[39m\u001b[38;5;241m50\u001b[39m,base_estimator\u001b[38;5;241m=\u001b[39mlr,learning_rate\u001b[38;5;241m=\u001b[39m\u001b[38;5;241m1\u001b[39m)\n",
      "\u001b[1;31mTypeError\u001b[0m: AdaBoostClassifier.__init__() got an unexpected keyword argument 'base_estimator'"
     ]
    }
   ],
   "source": [
    "#Here base model is changed \n",
    "Ada_model=AdaBoostClassifier(n_estimators=50,base_estimator=lr,learning_rate=1)"
   ]
  },
  {
   "cell_type": "code",
   "execution_count": 43,
   "id": "266c7191-a5dc-408d-803d-386d29b362b4",
   "metadata": {},
   "outputs": [],
   "source": [
    "model=ada_model.fit(X_train,y_train)"
   ]
  },
  {
   "cell_type": "code",
   "execution_count": 45,
   "id": "ccf476a5-e254-408a-86a1-08cf9c95eb54",
   "metadata": {},
   "outputs": [],
   "source": [
    "y_pred=model.predict(X_test)"
   ]
  },
  {
   "cell_type": "code",
   "execution_count": 47,
   "id": "7d519f71-63bb-4aba-972e-8ddd28ba2972",
   "metadata": {},
   "outputs": [
    {
     "name": "stdout",
     "output_type": "stream",
     "text": [
      "accuracy 0.8401064592076978\n"
     ]
    }
   ],
   "source": [
    "print(\"accuracy\",metrics.accuracy_score(y_test,y_pred))"
   ]
  },
  {
   "cell_type": "code",
   "execution_count": null,
   "id": "bbbdfe08-feb1-4bbf-8d96-fec70c4a92b9",
   "metadata": {},
   "outputs": [],
   "source": []
  },
  {
   "cell_type": "code",
   "execution_count": null,
   "id": "28563506-2cfb-46ed-98fd-9d1d4b349922",
   "metadata": {},
   "outputs": [],
   "source": []
  },
  {
   "cell_type": "code",
   "execution_count": null,
   "id": "3e1d7a3e-ca01-43a5-9c62-69227d665347",
   "metadata": {},
   "outputs": [],
   "source": []
  },
  {
   "cell_type": "code",
   "execution_count": null,
   "id": "151393d0-f754-465d-bdec-8a8fc6ad49c8",
   "metadata": {},
   "outputs": [],
   "source": []
  },
  {
   "cell_type": "code",
   "execution_count": null,
   "id": "5afc5325-f38f-4036-b452-23de1796d53c",
   "metadata": {},
   "outputs": [],
   "source": []
  }
 ],
 "metadata": {
  "kernelspec": {
   "display_name": "Python 3 (ipykernel)",
   "language": "python",
   "name": "python3"
  },
  "language_info": {
   "codemirror_mode": {
    "name": "ipython",
    "version": 3
   },
   "file_extension": ".py",
   "mimetype": "text/x-python",
   "name": "python",
   "nbconvert_exporter": "python",
   "pygments_lexer": "ipython3",
   "version": "3.11.7"
  }
 },
 "nbformat": 4,
 "nbformat_minor": 5
}
