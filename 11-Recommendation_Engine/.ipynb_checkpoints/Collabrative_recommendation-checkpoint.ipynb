{
 "cells": [
  {
   "cell_type": "code",
   "execution_count": 1,
   "id": "16d2be68-1fef-4d76-a1ed-e2acd86861b5",
   "metadata": {},
   "outputs": [],
   "source": [
    "import pandas as pd\n",
    "from sklearn.metrics.pairwise import cosine_similarity\n",
    "import numpy as np"
   ]
  },
  {
   "cell_type": "code",
   "execution_count": 3,
   "id": "bbaadb23-3e8f-4446-a317-5ca68dd5ede3",
   "metadata": {},
   "outputs": [
    {
     "data": {
      "text/html": [
       "<div>\n",
       "<style scoped>\n",
       "    .dataframe tbody tr th:only-of-type {\n",
       "        vertical-align: middle;\n",
       "    }\n",
       "\n",
       "    .dataframe tbody tr th {\n",
       "        vertical-align: top;\n",
       "    }\n",
       "\n",
       "    .dataframe thead th {\n",
       "        text-align: right;\n",
       "    }\n",
       "</style>\n",
       "<table border=\"1\" class=\"dataframe\">\n",
       "  <thead>\n",
       "    <tr style=\"text-align: right;\">\n",
       "      <th></th>\n",
       "      <th>userId</th>\n",
       "      <th>game</th>\n",
       "      <th>rating</th>\n",
       "    </tr>\n",
       "  </thead>\n",
       "  <tbody>\n",
       "    <tr>\n",
       "      <th>0</th>\n",
       "      <td>3</td>\n",
       "      <td>The Legend of Zelda: Ocarina of Time</td>\n",
       "      <td>4.0</td>\n",
       "    </tr>\n",
       "    <tr>\n",
       "      <th>1</th>\n",
       "      <td>6</td>\n",
       "      <td>Tony Hawk's Pro Skater 2</td>\n",
       "      <td>5.0</td>\n",
       "    </tr>\n",
       "    <tr>\n",
       "      <th>2</th>\n",
       "      <td>8</td>\n",
       "      <td>Grand Theft Auto IV</td>\n",
       "      <td>4.0</td>\n",
       "    </tr>\n",
       "    <tr>\n",
       "      <th>3</th>\n",
       "      <td>10</td>\n",
       "      <td>SoulCalibur</td>\n",
       "      <td>4.0</td>\n",
       "    </tr>\n",
       "    <tr>\n",
       "      <th>4</th>\n",
       "      <td>11</td>\n",
       "      <td>Grand Theft Auto IV</td>\n",
       "      <td>4.5</td>\n",
       "    </tr>\n",
       "  </tbody>\n",
       "</table>\n",
       "</div>"
      ],
      "text/plain": [
       "   userId                                  game  rating\n",
       "0       3  The Legend of Zelda: Ocarina of Time     4.0\n",
       "1       6              Tony Hawk's Pro Skater 2     5.0\n",
       "2       8                   Grand Theft Auto IV     4.0\n",
       "3      10                           SoulCalibur     4.0\n",
       "4      11                   Grand Theft Auto IV     4.5"
      ]
     },
     "execution_count": 3,
     "metadata": {},
     "output_type": "execute_result"
    }
   ],
   "source": [
    "#Load the CSV file\n",
    "data=pd.read_csv(\"game.csv\")\n",
    "data.head()"
   ]
  },
  {
   "cell_type": "code",
   "execution_count": 7,
   "id": "e2cecc41-516f-475c-8508-7264816ecfc7",
   "metadata": {},
   "outputs": [
    {
     "data": {
      "text/plain": [
       "'\\npivot_table:This function reshapes the DataFrame into a matrix where:\\nEach row represents a user(identified by userId)\\nEach column represents a game(identified by game).\\nThe valuses in the matrix represents the ratings that user gave to the games.\\n'"
      ]
     },
     "execution_count": 7,
     "metadata": {},
     "output_type": "execute_result"
    }
   ],
   "source": [
    "#Step 1: Create a user-item matrix(rows:users,columns: games,values: rating)\n",
    "user_item_matrix=data.pivot_table(index='userId',columns='game',values='rating')\n",
    "\n",
    "'''\n",
    "pivot_table:This function reshapes the DataFrame into a matrix where:\n",
    "Each row represents a user(identified by userId)\n",
    "Each column represents a game(identified by game).\n",
    "The valuses in the matrix represents the ratings that user gave to the games.\n",
    "'''"
   ]
  },
  {
   "cell_type": "code",
   "execution_count": 9,
   "id": "d7460061-0920-4969-ba41-f1cc78609e76",
   "metadata": {},
   "outputs": [
    {
     "data": {
      "text/plain": [
       "'\\nThis Line replaces any missing values (NaNs)\\nin the user-item matrix with 0,\\nindicating that the user did not rate that perticular game.\\n'"
      ]
     },
     "execution_count": 9,
     "metadata": {},
     "output_type": "execute_result"
    }
   ],
   "source": [
    "#Step 2:Fill NaN values with 0(assuming no rating means the game has not)\n",
    "user_item_matrix_filled=user_item_matrix.fillna(0)\n",
    "\n",
    "'''\n",
    "This Line replaces any missing values (NaNs)\n",
    "in the user-item matrix with 0,\n",
    "indicating that the user did not rate that perticular game.\n",
    "'''"
   ]
  },
  {
   "cell_type": "code",
   "execution_count": 11,
   "id": "29b030b7-85ea-4cb4-b7bc-269d8afa3d52",
   "metadata": {},
   "outputs": [],
   "source": [
    "#Step 3:Compute the cosine similarity between users bases on raw ratings\n",
    "user_similarity=cosine_similarity=cosine_similarity(user_item_matrix_filled)\n",
    "\n",
    "#Convert similarity matrix to a DataFrame for easy reference\n",
    "user_similarity_df=pd.DataFrame(user_similarity,index=user_item_matrix.index,columns=user_item_matrix.index)\n"
   ]
  },
  {
   "cell_type": "code",
   "execution_count": 13,
   "id": "387367bd-82b7-4a1e-b531-22df36484776",
   "metadata": {},
   "outputs": [],
   "source": [
    "#Step 4:Function to get game recommendations for a specific user based on sililarity.\n",
    "def get_recomm_user_info(user_id,num_recommendations=5):\n",
    "    #Get the similarity scores for the input user with all other user\n",
    "    similar_users=user_similarity_df[user_id].sort_values(ascending=False)\n",
    "    \n",
    "    #Get the most similar users(exclusing the user themselves)\n",
    "    similar_users=similar_users.drop(user_id)\n",
    "    \n",
    "    #Select the top N similar users to limit noise(e.g,top 50 users)\n",
    "    top_similar_users=similar_users.head(50)\n",
    "    #This selects the top 50 most similar users to limit noise in the recommendation\n",
    "    #Get ratings of these similar users,weightd by there similarity score\n",
    "    weighted_ratings=np.dot(top_similar_users.values,user_item_matrix_filled.loc[top_similar_users.index])\n",
    "    #np.dot:This computes the dot product between the\n",
    "    #Similarity scores of the top similar users and\n",
    "    #their corresponding ratings in the user-item matrix.\n",
    "    #The result is an array of the weighted ratings for each game.\n",
    "    #Normalize by the sum of similarities\n",
    "    sum_of_similarities=top_similar_users.sum()\n",
    "    \n",
    "    if sum_of_similarities > 0:\n",
    "        weighted_ratings/= sum_of_similarities\n",
    "        \n",
    "    #This weighted ratings are normalized by dividing by the \n",
    "    #sum of similarities to avoid biasing toward user with higher ratings.\n",
    "    \n",
    "    #Recommend games that the user hasn't rated yet\n",
    "    user_ratings=user_item_matrix_filled.loc[user_id]\n",
    "    unrated_games=user_ratings[user_ratings==0]\n",
    "    #This identifies game that the target user has not rated(i.e,rated 0)\n",
    "    \n",
    "    #Get the weighted scores for unrated games\n",
    "    game_recommendations=pd.Series(weighted_ratings,index=user_item_matrix_filled.columns).loc[unrated_games.index]\n",
    "    \n",
    "    #This creats a pandas Series from the weighted ratings\n",
    "    #and filters it to include only the unrated games.\n",
    "    #Finally,it sorts the recommendations in decreasing order\n",
    "    #and returns the top specificied number of recommendations.\n",
    "    \n",
    "    #Return the top 'num_recommendations' game recommendations\n",
    "    return game_recommendations.sort_values(ascending=False).head(num_recommendations)\n"
   ]
  },
  {
   "cell_type": "code",
   "execution_count": 15,
   "id": "69f2ee26-3bfe-4355-8943-870c30b931b1",
   "metadata": {},
   "outputs": [
    {
     "name": "stdout",
     "output_type": "stream",
     "text": [
      "Recommended games for user 3:\n",
      "game\n",
      "Alan Wake: The Writer                 0.728709\n",
      "Command & Conquer 3: Tiberium Wars    0.666940\n",
      "World of Tanks                        0.666940\n",
      "'Splosion Man                         0.000000\n",
      "Retro City Rampage                    0.000000\n",
      "dtype: float64\n"
     ]
    }
   ],
   "source": [
    "#Example usage:Get recommendations for a user with ID 3\n",
    "recommendad_games=get_recomm_user_info(user_id=22)\n",
    "\n",
    "#Print the recommended games\n",
    "print(\"Recommended games for user 3:\")\n",
    "print(recommendad_games)"
   ]
  },
  {
   "cell_type": "code",
   "execution_count": null,
   "id": "c40a598b-673f-446b-a946-be06b3f7e599",
   "metadata": {},
   "outputs": [],
   "source": []
  }
 ],
 "metadata": {
  "kernelspec": {
   "display_name": "Python 3 (ipykernel)",
   "language": "python",
   "name": "python3"
  },
  "language_info": {
   "codemirror_mode": {
    "name": "ipython",
    "version": 3
   },
   "file_extension": ".py",
   "mimetype": "text/x-python",
   "name": "python",
   "nbconvert_exporter": "python",
   "pygments_lexer": "ipython3",
   "version": "3.11.7"
  }
 },
 "nbformat": 4,
 "nbformat_minor": 5
}
