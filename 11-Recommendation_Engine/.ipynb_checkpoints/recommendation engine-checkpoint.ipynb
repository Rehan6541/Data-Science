{
 "cells": [
  {
   "cell_type": "code",
   "execution_count": 5,
   "id": "00d6541a-86c6-4ce8-8ee7-99980bf3df03",
   "metadata": {},
   "outputs": [],
   "source": [
    "import pandas as pd\n",
    "from sklearn.metrics.pairwise import cosine_similarity\n",
    "from sklearn.preprocessing import MinMaxScaler\n",
    "import numpy as np"
   ]
  },
  {
   "cell_type": "code",
   "execution_count": 7,
   "id": "35831784-bcc1-41cb-87a8-f9360df6a64b",
   "metadata": {},
   "outputs": [
    {
     "data": {
      "text/html": [
       "<div>\n",
       "<style scoped>\n",
       "    .dataframe tbody tr th:only-of-type {\n",
       "        vertical-align: middle;\n",
       "    }\n",
       "\n",
       "    .dataframe tbody tr th {\n",
       "        vertical-align: top;\n",
       "    }\n",
       "\n",
       "    .dataframe thead th {\n",
       "        text-align: right;\n",
       "    }\n",
       "</style>\n",
       "<table border=\"1\" class=\"dataframe\">\n",
       "  <thead>\n",
       "    <tr style=\"text-align: right;\">\n",
       "      <th></th>\n",
       "      <th>Id</th>\n",
       "      <th>Titles</th>\n",
       "      <th>Category</th>\n",
       "      <th>Reviews</th>\n",
       "    </tr>\n",
       "  </thead>\n",
       "  <tbody>\n",
       "    <tr>\n",
       "      <th>0</th>\n",
       "      <td>6973</td>\n",
       "      <td>Toy Story (1995)</td>\n",
       "      <td>Drama, Romance, School, Supernatural</td>\n",
       "      <td>-8.98</td>\n",
       "    </tr>\n",
       "    <tr>\n",
       "      <th>1</th>\n",
       "      <td>6778</td>\n",
       "      <td>Jumanji (1995)</td>\n",
       "      <td>Action, Adventure, Drama, Fantasy, Magic, Mili...</td>\n",
       "      <td>8.88</td>\n",
       "    </tr>\n",
       "    <tr>\n",
       "      <th>2</th>\n",
       "      <td>9702</td>\n",
       "      <td>Grumpier Old Men (1995)</td>\n",
       "      <td>Action, Comedy, Historical, Parody, Samurai, S...</td>\n",
       "      <td>99.00</td>\n",
       "    </tr>\n",
       "    <tr>\n",
       "      <th>3</th>\n",
       "      <td>6769</td>\n",
       "      <td>Waiting to Exhale (1995)</td>\n",
       "      <td>Sci-Fi, Thriller</td>\n",
       "      <td>99.00</td>\n",
       "    </tr>\n",
       "    <tr>\n",
       "      <th>4</th>\n",
       "      <td>1123</td>\n",
       "      <td>Father of the Bride Part II (1995)</td>\n",
       "      <td>Action, Comedy, Historical, Parody, Samurai, S...</td>\n",
       "      <td>-0.44</td>\n",
       "    </tr>\n",
       "  </tbody>\n",
       "</table>\n",
       "</div>"
      ],
      "text/plain": [
       "     Id                              Titles  \\\n",
       "0  6973                    Toy Story (1995)   \n",
       "1  6778                      Jumanji (1995)   \n",
       "2  9702             Grumpier Old Men (1995)   \n",
       "3  6769            Waiting to Exhale (1995)   \n",
       "4  1123  Father of the Bride Part II (1995)   \n",
       "\n",
       "                                            Category  Reviews  \n",
       "0               Drama, Romance, School, Supernatural    -8.98  \n",
       "1  Action, Adventure, Drama, Fantasy, Magic, Mili...     8.88  \n",
       "2  Action, Comedy, Historical, Parody, Samurai, S...    99.00  \n",
       "3                                   Sci-Fi, Thriller    99.00  \n",
       "4  Action, Comedy, Historical, Parody, Samurai, S...    -0.44  "
      ]
     },
     "execution_count": 7,
     "metadata": {},
     "output_type": "execute_result"
    }
   ],
   "source": [
    "#Load the .csv file\n",
    "data=pd.read_csv(\"Entertainment.csv\")\n",
    "data.head()"
   ]
  },
  {
   "cell_type": "code",
   "execution_count": 9,
   "id": "16ebaba8-e4b9-4e62-b57c-9bf7321587ca",
   "metadata": {},
   "outputs": [],
   "source": [
    "#Step 1: NOrmalize the review scores\n",
    "#We use minmaxscaler to scale the review between 0 and 1.\n",
    "scaler=MinMaxScaler()\n",
    "data['Normalized_reviews']=scaler.fit_transform(data[['Reviews']])"
   ]
  },
  {
   "cell_type": "code",
   "execution_count": null,
   "id": "cdbf4b9a-1d03-4fdd-9175-44c502149018",
   "metadata": {},
   "outputs": [],
   "source": [
    "#Step 2: Compare the cosine similarity "
   ]
  }
 ],
 "metadata": {
  "kernelspec": {
   "display_name": "Python 3 (ipykernel)",
   "language": "python",
   "name": "python3"
  },
  "language_info": {
   "codemirror_mode": {
    "name": "ipython",
    "version": 3
   },
   "file_extension": ".py",
   "mimetype": "text/x-python",
   "name": "python",
   "nbconvert_exporter": "python",
   "pygments_lexer": "ipython3",
   "version": "3.11.7"
  }
 },
 "nbformat": 4,
 "nbformat_minor": 5
}
