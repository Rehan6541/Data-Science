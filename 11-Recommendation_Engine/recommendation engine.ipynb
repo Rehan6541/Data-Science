{
 "cells": [
  {
   "cell_type": "code",
   "execution_count": 5,
   "id": "00d6541a-86c6-4ce8-8ee7-99980bf3df03",
   "metadata": {},
   "outputs": [],
   "source": [
    "import pandas as pd\n",
    "from sklearn.metrics.pairwise import cosine_similarity\n",
    "from sklearn.preprocessing import MinMaxScaler\n",
    "import numpy as np"
   ]
  },
  {
   "cell_type": "code",
   "execution_count": 7,
   "id": "35831784-bcc1-41cb-87a8-f9360df6a64b",
   "metadata": {},
   "outputs": [
    {
     "data": {
      "text/html": [
       "<div>\n",
       "<style scoped>\n",
       "    .dataframe tbody tr th:only-of-type {\n",
       "        vertical-align: middle;\n",
       "    }\n",
       "\n",
       "    .dataframe tbody tr th {\n",
       "        vertical-align: top;\n",
       "    }\n",
       "\n",
       "    .dataframe thead th {\n",
       "        text-align: right;\n",
       "    }\n",
       "</style>\n",
       "<table border=\"1\" class=\"dataframe\">\n",
       "  <thead>\n",
       "    <tr style=\"text-align: right;\">\n",
       "      <th></th>\n",
       "      <th>Id</th>\n",
       "      <th>Titles</th>\n",
       "      <th>Category</th>\n",
       "      <th>Reviews</th>\n",
       "    </tr>\n",
       "  </thead>\n",
       "  <tbody>\n",
       "    <tr>\n",
       "      <th>0</th>\n",
       "      <td>6973</td>\n",
       "      <td>Toy Story (1995)</td>\n",
       "      <td>Drama, Romance, School, Supernatural</td>\n",
       "      <td>-8.98</td>\n",
       "    </tr>\n",
       "    <tr>\n",
       "      <th>1</th>\n",
       "      <td>6778</td>\n",
       "      <td>Jumanji (1995)</td>\n",
       "      <td>Action, Adventure, Drama, Fantasy, Magic, Mili...</td>\n",
       "      <td>8.88</td>\n",
       "    </tr>\n",
       "    <tr>\n",
       "      <th>2</th>\n",
       "      <td>9702</td>\n",
       "      <td>Grumpier Old Men (1995)</td>\n",
       "      <td>Action, Comedy, Historical, Parody, Samurai, S...</td>\n",
       "      <td>99.00</td>\n",
       "    </tr>\n",
       "    <tr>\n",
       "      <th>3</th>\n",
       "      <td>6769</td>\n",
       "      <td>Waiting to Exhale (1995)</td>\n",
       "      <td>Sci-Fi, Thriller</td>\n",
       "      <td>99.00</td>\n",
       "    </tr>\n",
       "    <tr>\n",
       "      <th>4</th>\n",
       "      <td>1123</td>\n",
       "      <td>Father of the Bride Part II (1995)</td>\n",
       "      <td>Action, Comedy, Historical, Parody, Samurai, S...</td>\n",
       "      <td>-0.44</td>\n",
       "    </tr>\n",
       "  </tbody>\n",
       "</table>\n",
       "</div>"
      ],
      "text/plain": [
       "     Id                              Titles  \\\n",
       "0  6973                    Toy Story (1995)   \n",
       "1  6778                      Jumanji (1995)   \n",
       "2  9702             Grumpier Old Men (1995)   \n",
       "3  6769            Waiting to Exhale (1995)   \n",
       "4  1123  Father of the Bride Part II (1995)   \n",
       "\n",
       "                                            Category  Reviews  \n",
       "0               Drama, Romance, School, Supernatural    -8.98  \n",
       "1  Action, Adventure, Drama, Fantasy, Magic, Mili...     8.88  \n",
       "2  Action, Comedy, Historical, Parody, Samurai, S...    99.00  \n",
       "3                                   Sci-Fi, Thriller    99.00  \n",
       "4  Action, Comedy, Historical, Parody, Samurai, S...    -0.44  "
      ]
     },
     "execution_count": 7,
     "metadata": {},
     "output_type": "execute_result"
    }
   ],
   "source": [
    "#Load the .csv file\n",
    "data=pd.read_csv(\"Entertainment.csv\")\n",
    "data.head()"
   ]
  },
  {
   "cell_type": "code",
   "execution_count": 9,
   "id": "16ebaba8-e4b9-4e62-b57c-9bf7321587ca",
   "metadata": {},
   "outputs": [],
   "source": [
    "#Step 1: NOrmalize the review scores\n",
    "#We use minmaxscaler to scale the review between 0 and 1.\n",
    "scaler=MinMaxScaler()\n",
    "data['Normalized_reviews']=scaler.fit_transform(data[['Reviews']])"
   ]
  },
  {
   "cell_type": "code",
   "execution_count": null,
   "id": "cdbf4b9a-1d03-4fdd-9175-44c502149018",
   "metadata": {},
   "outputs": [],
   "source": [
    "#Step 2: Compare the cosine similarity "
   ]
  },
  {
   "cell_type": "code",
   "execution_count": null,
   "id": "a345dd7d-015a-4d55-b7b3-ff91e4afdd40",
   "metadata": {},
   "outputs": [],
   "source": [
    "#Step3:Create a function to recommend titles based on similarity\n",
    "def get_recommendation(title,cosine_sim=cosine_sim_reviews):\n",
    "    #Get the index of the title that matches the input title\n",
    "    idx=data[data['Titles']==title].index[0]\n",
    "    '''\n",
    "    data['Titles]==title\n",
    "    Tgis creates a boolean mask(a series of true and false values)\n",
    "    indicating which rows in the Titles column match the input title. \n",
    "    For example, if the title is \"Toy Story (1995)\", this comparison results in something Like:\n",
    "    0 True\n",
    "    1 False\n",
    "    2 False\n",
    "    Name: Titles, dtype: bool\n",
    "    Why [0] is Needed:\n",
    "             Even though the title should be unique,'''\n",
    "    \n",
    "    #Get the pairwise similarity scores of all titles with that title\n",
    "    sim_scores=list(enumerate(cosine_sim[idx]))\n",
    "\n",
    "    #sort the title based on the similarity scores in descending order\n",
    "    sim_scores=sorted(sim_scores,key=lambda x:x[1],reverse=True)\n",
    "\n",
    "    #get the indices of the most similar titles\n",
    "    sim_indices=[i[0] for i in sim_scores[1:6]]\n",
    "    #Exclude the first as it is the title itself\n",
    "\n",
    "    #return the top 5 most similar title\n",
    "    return data['Titles'].iloc[sim_indices]\n",
    "\n"
   ]
  },
  {
   "cell_type": "code",
   "execution_count": null,
   "id": "e9ba29f7-6cfa-4d56-bcec-47a20571b40f",
   "metadata": {},
   "outputs": [],
   "source": [
    "# Test the collaborative recommendation system with an example title\n",
    "example_title = \"Toy Story (1995)\"\n",
    "\n",
    "collaborative_recommended_titles = get_collaborative_recommendations (example\n",
    "# Print the recommendations\n",
    "print (f\"Collaborative Recommendations for '{example_title}':\")\n",
    "for title in collaborative_recommended_titles:\n",
    "    print(title)\n",
    "                                                                      \n"
   ]
  }
 ],
 "metadata": {
  "kernelspec": {
   "display_name": "Python 3 (ipykernel)",
   "language": "python",
   "name": "python3"
  },
  "language_info": {
   "codemirror_mode": {
    "name": "ipython",
    "version": 3
   },
   "file_extension": ".py",
   "mimetype": "text/x-python",
   "name": "python",
   "nbconvert_exporter": "python",
   "pygments_lexer": "ipython3",
   "version": "3.11.7"
  }
 },
 "nbformat": 4,
 "nbformat_minor": 5
}
