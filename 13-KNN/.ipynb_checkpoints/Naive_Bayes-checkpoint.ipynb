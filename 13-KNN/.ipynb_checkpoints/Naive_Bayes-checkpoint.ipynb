{
 "cells": [
  {
   "cell_type": "code",
   "execution_count": 25,
   "id": "3a8f96b2-f5db-41ec-935e-439364b15f1e",
   "metadata": {},
   "outputs": [],
   "source": [
    "import pandas as pd\n",
    "import numpy as np\n",
    "from sklearn.feature_extraction.text import CountVectorizer,TfidfTransformer"
   ]
  },
  {
   "cell_type": "code",
   "execution_count": 27,
   "id": "358fe4ec-62e2-4301-acad-2ce46fb18c03",
   "metadata": {},
   "outputs": [],
   "source": [
    "#Loading the dataset\n",
    "email_data=pd.read_csv(\"sms_raw_NB.csv\",encoding=\"ISO-8859-1\")\n",
    "#These are in test form,open the data frame there are ham or spam"
   ]
  },
  {
   "cell_type": "code",
   "execution_count": 29,
   "id": "9f328fef-f8e1-43d7-b584-25b6167ffb3f",
   "metadata": {},
   "outputs": [],
   "source": [
    "#Cleaning the data\n",
    "#The function tokenize the text and removes words with fewer than 4 characters\n",
    "import re\n",
    "def cleaning_text(i):\n",
    "    i=re.sub(\"[^A-Z a-z\"\"]+\",\"\",i).lower()\n",
    "    w=[]\n",
    "    #every thing else A to Z and a to z is going to space andabs\n",
    "    #we will take each row and tokenize\n",
    "    for word in i.split(\"\"):\n",
    "        if len(word)>3:\n",
    "            w.append(word)\n",
    "    return(\"\",join(w))\n",
    "    #Testing above function with sample text\n",
    "    cleaning_text(\"Hope you are having a good week. Just checking in\")\n",
    "    cleaning_text(\"hope i can understand your felling12321.123.hi how are you\")\n",
    "    cleaning_text(\"Hi how are you\")\n",
    "#Note the ddataframe size is 5559,2 now removing spaces"
   ]
  },
  {
   "cell_type": "code",
   "execution_count": 31,
   "id": "a8aef5a2-09bd-439d-b50d-285a911ee862",
   "metadata": {},
   "outputs": [
    {
     "data": {
      "text/plain": [
       "(5559, 2)"
      ]
     },
     "execution_count": 31,
     "metadata": {},
     "output_type": "execute_result"
    }
   ],
   "source": [
    "#Removing empty rows\n",
    "email_data=email_data.loc[email_data.text!=\"\",:]\n",
    "email_data.shape"
   ]
  },
  {
   "cell_type": "code",
   "execution_count": 33,
   "id": "5166483d-6978-436f-9b79-32ca808b6dde",
   "metadata": {},
   "outputs": [],
   "source": [
    "#You can use count count vectorizer which directly converts a colection of doc\n",
    "#First we will split the data\n",
    "from sklearn.model_selection import train_test_split\n",
    "email_train,email_test=train_test_split(email_data,test_size=0.2)"
   ]
  },
  {
   "cell_type": "code",
   "execution_count": 39,
   "id": "dfb2e05f-eed8-437c-a5d8-9ee2868beae8",
   "metadata": {},
   "outputs": [],
   "source": [
    "#Splits each email into a list of words.\n",
    "#Creating matrix of token count for entire dataframe\n",
    "def split_into_words(i):\n",
    "    return [word for word in i.split(\"\")]"
   ]
  },
  {
   "cell_type": "code",
   "execution_count": null,
   "id": "7e287a46-0dfb-4d9f-ae90-68c955cb8325",
   "metadata": {},
   "outputs": [],
   "source": [
    "#defining the preparation of email text into word count matrix  format\n",
    "#CountVectorizer: converts the emails into a matrix of token counts\n",
    "#.fit():learns the vocabulary from the text ddata\n",
    "#.transform():converts the text data to token count matrix\n",
    "emails_bow=CountVectorizer(analyzer=split_into_words).fit(email_data.text)"
   ]
  },
  {
   "cell_type": "code",
   "execution_count": null,
   "id": "8e3bed12-bbc4-4c80-a6f0-6c8be255031e",
   "metadata": {},
   "outputs": [],
   "source": [
    "#Defining bow \n",
    "all_emails_matrix=emails_bow.transform(email_bow.text)\n",
    "train_email_matrix=emails_bow.transform(email_train.text)\n",
    "#For testing messages\n",
    "test_email_matrix=emails_bow.tranform(email_test.text)\n",
    "#learning term weighting and normalizing entire emails\n",
    "tfidf_transformer=TfidfTransformer().fit(all_emails_matrix)\n",
    "\n",
    "#Preparing TFIDF for train mails\n",
    "train_tfidf=tfidf_transformer.tranform(train_email_matrix)\n",
    "train_tfidf.shape\n",
    "\n",
    "test_tfidf=tfidf_transformer.tranform(test_email_matrix)\n",
    "test_tfidf.shape\n"
   ]
  },
  {
   "cell_type": "code",
   "execution_count": null,
   "id": "8853e9f4-20ba-45c8-a404-60fa96c1f012",
   "metadata": {},
   "outputs": [],
   "source": [
    "###Now apply to Naive Bayes \n",
    "from sklearn.naive_bayes import  MultinomialNB as MB\n",
    "classifier_mb=MB()\n",
    "classifier_mb.fit(train_tfidf,email_train.type)"
   ]
  },
  {
   "cell_type": "code",
   "execution_count": null,
   "id": "b3d49ff5-1b4c-4b26-9048-db340cf02617",
   "metadata": {},
   "outputs": [],
   "source": [
    "#Evaluation on test data\n",
    "test_pred_m=classfier_mb.predict(test_tfidf)"
   ]
  },
  {
   "cell_type": "code",
   "execution_count": null,
   "id": "d650cb96-6f11-41d1-8b59-f5f42a91faf4",
   "metadata": {},
   "outputs": [],
   "source": [
    "#Calculate accuracy\n",
    "accuracy_test_m=np.mean(test_pred_m==email_test.type)\n",
    "accuracy_test_m\n",
    "#Evaluation on test data accuracy matrix\n",
    "from sklearn.metrics import accuracy_score\n",
    "accuracy_score(test_pred_m,email_test.type)\n",
    "pd.crosstab(test_pred_m,email_test.type)\n"
   ]
  },
  {
   "cell_type": "code",
   "execution_count": null,
   "id": "02756e64-fb17-4359-8d49-255aefdfd3e4",
   "metadata": {},
   "outputs": [],
   "source": [
    "#Training data accuracy\n",
    "train_test_m=classfier_mb.predict(train_tfidf)"
   ]
  },
  {
   "cell_type": "code",
   "execution_count": null,
   "id": "29718076-b40b-4797-9df9-c5320cdb5387",
   "metadata": {},
   "outputs": [],
   "source": [
    "#Accuracy after tuning\n",
    "from sklearn,metrics import accuracy_score\n",
    "accuracy_score(test_pred_lap,email_test.type)\n",
    "pd.crosstab(test_pred_lap,email_test.type)\n",
    "\n",
    "#Training data accuracy\n",
    "train_pred_lap=classifier_mb_lap.predict(train_tfidf)\n",
    "accuracy_train_lap=np.mean(train_pred_lap==email_train.type)\n",
    "accuracy_train_lap\n"
   ]
  }
 ],
 "metadata": {
  "kernelspec": {
   "display_name": "Python 3 (ipykernel)",
   "language": "python",
   "name": "python3"
  },
  "language_info": {
   "codemirror_mode": {
    "name": "ipython",
    "version": 3
   },
   "file_extension": ".py",
   "mimetype": "text/x-python",
   "name": "python",
   "nbconvert_exporter": "python",
   "pygments_lexer": "ipython3",
   "version": "3.11.7"
  }
 },
 "nbformat": 4,
 "nbformat_minor": 5
}
