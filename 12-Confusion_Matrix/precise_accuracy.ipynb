{
 "cells": [
  {
   "cell_type": "code",
   "execution_count": 29,
   "id": "ffd38fcc-207d-4ef7-94be-d60bb7ac4b75",
   "metadata": {},
   "outputs": [],
   "source": [
    "import numpy as np"
   ]
  },
  {
   "cell_type": "code",
   "execution_count": 31,
   "id": "fc48ed25-676c-4599-af29-93e832c29e70",
   "metadata": {},
   "outputs": [],
   "source": [
    "#Let's define a true alue that we want to measure\n",
    "#We first define the true value of 50.this is the reference point\n",
    "true_value=50"
   ]
  },
  {
   "cell_type": "code",
   "execution_count": 51,
   "id": "49a2740b-ffcf-466a-818e-71505054ac75",
   "metadata": {},
   "outputs": [],
   "source": [
    "#simultae some measurements\n",
    "#accurate but not precise(close to true value but spread out)\n",
    "'''\n",
    "Simulating measurements\n",
    "We simulate two sets of measurements:\n",
    "\n",
    "Accurate but nit precise:these values are centered\n",
    "around the true value (50),but there is some spread(random variation).\n",
    "This simulates measurements that are accurate\n",
    "(close to the true value)but not precise(spread out).'''\n",
    "\n",
    "accurate_measurements=np.random.normal(loc=true_value,scale=5,size=10)\n",
    "\n",
    "#Precise but not accurate(far from true value but tightly grouped)\n",
    "'''\n",
    "Precise but not accurate:\n",
    "these values are tightly clustered around 60,\n",
    "not near the true value of 50\n",
    "this simulates measurements that are precise(closely grouped)\n",
    "but not accurate(for from the true valaue)'''\n",
    "\n",
    "precise_measurements=np.random.normal(loc=60,scale=1,size=10)\n"
   ]
  },
  {
   "cell_type": "code",
   "execution_count": 53,
   "id": "7c6a082a-b8b4-4751-866c-47564b5d9602",
   "metadata": {},
   "outputs": [],
   "source": [
    "#Function to calculate accuracy\n",
    "'''\n",
    "we calculate the mean (average) of the measurements.\n",
    "then,we calculate how close this average is to the true value.\n",
    "the closer the average is to the true value,\n",
    "the higher the accuracy.\n",
    "the accuracy formula is 1-(differnce/true_value).\n",
    "this gives a number between 0(low accuracy) and 1(high accuracy).'''\n",
    "\n",
    "def calculate_accuracy(measurements,true_value):\n",
    "    #Accuracy:how close the average measurements is to the true value.\n",
    "    average_measurements=np.mean(measurements)\n",
    "    accuracy=1-abs(average_measurements-true_value)/true_value\n",
    "    return accuracy\n"
   ]
  },
  {
   "cell_type": "code",
   "execution_count": 55,
   "id": "2336b870-cf94-4456-a0b8-98b1a5fd254d",
   "metadata": {},
   "outputs": [],
   "source": [
    "#Function to calculate precision\n",
    "'''\n",
    "Precision is determined by the standard deviation\n",
    "of the measurements.Standard deviation measures how the spread out the measurements are.\n",
    "if the standard deviation is small\n",
    "(measurements are close together),\n",
    "precision will be high.We use 1/std_dev to represent precision,\n",
    "to a smaller spread gives a higher value for precision.'''\n",
    "\n",
    "def calculate_precision(measurements):\n",
    "    #Precision:how close the measurements are to each other.\n",
    "    #(low standard deviation means high %precision)\n",
    "    precision=1/np.std(measurements)#higher std_dev\n",
    "    #means lower precision s o wew invert it\n",
    "    return precision"
   ]
  },
  {
   "cell_type": "code",
   "execution_count": 57,
   "id": "6d23c885-0161-4024-998f-5dfe429a5885",
   "metadata": {},
   "outputs": [],
   "source": [
    "#Calculate accuracy and precision for both sides\n",
    "'''\n",
    "Accurate measurements:we calculate the accuracy and precision\n",
    "of the measurements that are close to the true value but spread out,\n",
    "Precise measurements:we calculate the accuracy and precision\n",
    "of the measurments that are closely grouped but from the true value.'''\n",
    "\n",
    "accuracy_of_accurate=calculate_accuracy(accurate_measurements,true_value)\n",
    "precision_of_accurate=calculate_precision(accurate_measurements)\n",
    "\n",
    "accuracy_of_precise=calculate_accuracy(precise_measurements,true_value)\n",
    "precision_of_precise=calculate_precision(precise_measurements)"
   ]
  },
  {
   "cell_type": "code",
   "execution_count": 59,
   "id": "ae5fb699-9a64-4d2b-83c0-d340053e7bf9",
   "metadata": {},
   "outputs": [
    {
     "name": "stdout",
     "output_type": "stream",
     "text": [
      "Accurate but not precise measurements: \n",
      "Measurements: [49.13638615 42.07489283 48.60835919 50.33746338 58.8825268  50.41820354\n",
      " 51.5152742  48.85660553 44.11662822 46.57192205]\n",
      "Accuracy: 0.98\n",
      "Precision: 0.23\n"
     ]
    }
   ],
   "source": [
    "#print the results\n",
    "print(\"Accurate but not precise measurements: \")\n",
    "print(f\"Measurements: {accurate_measurements}\")\n",
    "print(f\"Accuracy: {accuracy_of_accurate:.2f}\")\n",
    "print(f\"Precision: {precision_of_accurate:.2f}\")"
   ]
  },
  {
   "cell_type": "code",
   "execution_count": 61,
   "id": "428bbb30-614a-4e18-8aaa-9a4bf162a7c3",
   "metadata": {},
   "outputs": [
    {
     "name": "stdout",
     "output_type": "stream",
     "text": [
      "Precise but not accurate measurements: \n",
      "Measurements: [57.30617275 59.2203641  59.50692419 59.27880549 59.4376242  58.49020566\n",
      " 59.4487403  60.34455206 58.68892639 59.68845654]\n",
      "Accuracy: 0.98\n",
      "Precision: 0.23\n"
     ]
    }
   ],
   "source": [
    "#print the results\n",
    "print(\"Precise but not accurate measurements: \")\n",
    "print(f\"Measurements: {precise_measurements}\")\n",
    "print(f\"Accuracy: {accuracy_of_accurate:.2f}\")\n",
    "print(f\"Precision: {precision_of_accurate:.2f}\")"
   ]
  },
  {
   "cell_type": "code",
   "execution_count": null,
   "id": "ff7e909b-7129-47c0-9011-0d4159a68a7b",
   "metadata": {},
   "outputs": [],
   "source": []
  }
 ],
 "metadata": {
  "kernelspec": {
   "display_name": "Python 3 (ipykernel)",
   "language": "python",
   "name": "python3"
  },
  "language_info": {
   "codemirror_mode": {
    "name": "ipython",
    "version": 3
   },
   "file_extension": ".py",
   "mimetype": "text/x-python",
   "name": "python",
   "nbconvert_exporter": "python",
   "pygments_lexer": "ipython3",
   "version": "3.11.7"
  }
 },
 "nbformat": 4,
 "nbformat_minor": 5
}
